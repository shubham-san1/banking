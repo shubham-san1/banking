{
 "cells": [
  {
   "cell_type": "markdown",
   "metadata": {},
   "source": [
    "                                           EDA PROJECT\n",
    "                            (ON PREVIOUS i.e. previous_application.csv)"
   ]
  },
  {
   "cell_type": "markdown",
   "metadata": {},
   "source": [
    "projectee:   \n",
    "\n",
    "* SHUBHAM KADWE(skadwe3@gmail.com ,chhayakadwe1@gmail.com, mob-8793195347)\n",
    "* URVI PALA (urvipala200@gmail.com , mob-7977684747)\n",
    "\n",
    "batch :"
   ]
  },
  {
   "cell_type": "code",
   "execution_count": 1,
   "metadata": {},
   "outputs": [],
   "source": [
    "import warnings \n",
    "warnings.filterwarnings(\"ignore\")\n"
   ]
  },
  {
   "cell_type": "code",
   "execution_count": 2,
   "metadata": {},
   "outputs": [],
   "source": [
    "import pandas as pd \n",
    "import numpy as np\n",
    "import seaborn as sns \n",
    "import matplotlib.pyplot as plt\n",
    "%matplotlib inline"
   ]
  },
  {
   "cell_type": "code",
   "execution_count": 3,
   "metadata": {},
   "outputs": [
    {
     "data": {
      "text/html": [
       "<div>\n",
       "<style scoped>\n",
       "    .dataframe tbody tr th:only-of-type {\n",
       "        vertical-align: middle;\n",
       "    }\n",
       "\n",
       "    .dataframe tbody tr th {\n",
       "        vertical-align: top;\n",
       "    }\n",
       "\n",
       "    .dataframe thead th {\n",
       "        text-align: right;\n",
       "    }\n",
       "</style>\n",
       "<table border=\"1\" class=\"dataframe\">\n",
       "  <thead>\n",
       "    <tr style=\"text-align: right;\">\n",
       "      <th></th>\n",
       "      <th>SK_ID_PREV</th>\n",
       "      <th>SK_ID_CURR</th>\n",
       "      <th>NAME_CONTRACT_TYPE</th>\n",
       "      <th>AMT_ANNUITY</th>\n",
       "      <th>AMT_APPLICATION</th>\n",
       "      <th>AMT_CREDIT</th>\n",
       "      <th>AMT_DOWN_PAYMENT</th>\n",
       "      <th>AMT_GOODS_PRICE</th>\n",
       "      <th>WEEKDAY_APPR_PROCESS_START</th>\n",
       "      <th>HOUR_APPR_PROCESS_START</th>\n",
       "      <th>...</th>\n",
       "      <th>NAME_SELLER_INDUSTRY</th>\n",
       "      <th>CNT_PAYMENT</th>\n",
       "      <th>NAME_YIELD_GROUP</th>\n",
       "      <th>PRODUCT_COMBINATION</th>\n",
       "      <th>DAYS_FIRST_DRAWING</th>\n",
       "      <th>DAYS_FIRST_DUE</th>\n",
       "      <th>DAYS_LAST_DUE_1ST_VERSION</th>\n",
       "      <th>DAYS_LAST_DUE</th>\n",
       "      <th>DAYS_TERMINATION</th>\n",
       "      <th>NFLAG_INSURED_ON_APPROVAL</th>\n",
       "    </tr>\n",
       "  </thead>\n",
       "  <tbody>\n",
       "    <tr>\n",
       "      <th>0</th>\n",
       "      <td>2030495</td>\n",
       "      <td>271877</td>\n",
       "      <td>Consumer loans</td>\n",
       "      <td>1730.430</td>\n",
       "      <td>17145.0</td>\n",
       "      <td>17145.0</td>\n",
       "      <td>0.0</td>\n",
       "      <td>17145.0</td>\n",
       "      <td>SATURDAY</td>\n",
       "      <td>15</td>\n",
       "      <td>...</td>\n",
       "      <td>Connectivity</td>\n",
       "      <td>12.0</td>\n",
       "      <td>middle</td>\n",
       "      <td>POS mobile with interest</td>\n",
       "      <td>365243.0</td>\n",
       "      <td>-42.0</td>\n",
       "      <td>300.0</td>\n",
       "      <td>-42.0</td>\n",
       "      <td>-37.0</td>\n",
       "      <td>0.0</td>\n",
       "    </tr>\n",
       "    <tr>\n",
       "      <th>1</th>\n",
       "      <td>2802425</td>\n",
       "      <td>108129</td>\n",
       "      <td>Cash loans</td>\n",
       "      <td>25188.615</td>\n",
       "      <td>607500.0</td>\n",
       "      <td>679671.0</td>\n",
       "      <td>NaN</td>\n",
       "      <td>607500.0</td>\n",
       "      <td>THURSDAY</td>\n",
       "      <td>11</td>\n",
       "      <td>...</td>\n",
       "      <td>XNA</td>\n",
       "      <td>36.0</td>\n",
       "      <td>low_action</td>\n",
       "      <td>Cash X-Sell: low</td>\n",
       "      <td>365243.0</td>\n",
       "      <td>-134.0</td>\n",
       "      <td>916.0</td>\n",
       "      <td>365243.0</td>\n",
       "      <td>365243.0</td>\n",
       "      <td>1.0</td>\n",
       "    </tr>\n",
       "    <tr>\n",
       "      <th>2</th>\n",
       "      <td>2523466</td>\n",
       "      <td>122040</td>\n",
       "      <td>Cash loans</td>\n",
       "      <td>15060.735</td>\n",
       "      <td>112500.0</td>\n",
       "      <td>136444.5</td>\n",
       "      <td>NaN</td>\n",
       "      <td>112500.0</td>\n",
       "      <td>TUESDAY</td>\n",
       "      <td>11</td>\n",
       "      <td>...</td>\n",
       "      <td>XNA</td>\n",
       "      <td>12.0</td>\n",
       "      <td>high</td>\n",
       "      <td>Cash X-Sell: high</td>\n",
       "      <td>365243.0</td>\n",
       "      <td>-271.0</td>\n",
       "      <td>59.0</td>\n",
       "      <td>365243.0</td>\n",
       "      <td>365243.0</td>\n",
       "      <td>1.0</td>\n",
       "    </tr>\n",
       "    <tr>\n",
       "      <th>3</th>\n",
       "      <td>2819243</td>\n",
       "      <td>176158</td>\n",
       "      <td>Cash loans</td>\n",
       "      <td>47041.335</td>\n",
       "      <td>450000.0</td>\n",
       "      <td>470790.0</td>\n",
       "      <td>NaN</td>\n",
       "      <td>450000.0</td>\n",
       "      <td>MONDAY</td>\n",
       "      <td>7</td>\n",
       "      <td>...</td>\n",
       "      <td>XNA</td>\n",
       "      <td>12.0</td>\n",
       "      <td>middle</td>\n",
       "      <td>Cash X-Sell: middle</td>\n",
       "      <td>365243.0</td>\n",
       "      <td>-482.0</td>\n",
       "      <td>-152.0</td>\n",
       "      <td>-182.0</td>\n",
       "      <td>-177.0</td>\n",
       "      <td>1.0</td>\n",
       "    </tr>\n",
       "    <tr>\n",
       "      <th>4</th>\n",
       "      <td>1784265</td>\n",
       "      <td>202054</td>\n",
       "      <td>Cash loans</td>\n",
       "      <td>31924.395</td>\n",
       "      <td>337500.0</td>\n",
       "      <td>404055.0</td>\n",
       "      <td>NaN</td>\n",
       "      <td>337500.0</td>\n",
       "      <td>THURSDAY</td>\n",
       "      <td>9</td>\n",
       "      <td>...</td>\n",
       "      <td>XNA</td>\n",
       "      <td>24.0</td>\n",
       "      <td>high</td>\n",
       "      <td>Cash Street: high</td>\n",
       "      <td>NaN</td>\n",
       "      <td>NaN</td>\n",
       "      <td>NaN</td>\n",
       "      <td>NaN</td>\n",
       "      <td>NaN</td>\n",
       "      <td>NaN</td>\n",
       "    </tr>\n",
       "    <tr>\n",
       "      <th>...</th>\n",
       "      <td>...</td>\n",
       "      <td>...</td>\n",
       "      <td>...</td>\n",
       "      <td>...</td>\n",
       "      <td>...</td>\n",
       "      <td>...</td>\n",
       "      <td>...</td>\n",
       "      <td>...</td>\n",
       "      <td>...</td>\n",
       "      <td>...</td>\n",
       "      <td>...</td>\n",
       "      <td>...</td>\n",
       "      <td>...</td>\n",
       "      <td>...</td>\n",
       "      <td>...</td>\n",
       "      <td>...</td>\n",
       "      <td>...</td>\n",
       "      <td>...</td>\n",
       "      <td>...</td>\n",
       "      <td>...</td>\n",
       "      <td>...</td>\n",
       "    </tr>\n",
       "    <tr>\n",
       "      <th>1670209</th>\n",
       "      <td>2300464</td>\n",
       "      <td>352015</td>\n",
       "      <td>Consumer loans</td>\n",
       "      <td>14704.290</td>\n",
       "      <td>267295.5</td>\n",
       "      <td>311400.0</td>\n",
       "      <td>0.0</td>\n",
       "      <td>267295.5</td>\n",
       "      <td>WEDNESDAY</td>\n",
       "      <td>12</td>\n",
       "      <td>...</td>\n",
       "      <td>Furniture</td>\n",
       "      <td>30.0</td>\n",
       "      <td>low_normal</td>\n",
       "      <td>POS industry with interest</td>\n",
       "      <td>365243.0</td>\n",
       "      <td>-508.0</td>\n",
       "      <td>362.0</td>\n",
       "      <td>-358.0</td>\n",
       "      <td>-351.0</td>\n",
       "      <td>0.0</td>\n",
       "    </tr>\n",
       "    <tr>\n",
       "      <th>1670210</th>\n",
       "      <td>2357031</td>\n",
       "      <td>334635</td>\n",
       "      <td>Consumer loans</td>\n",
       "      <td>6622.020</td>\n",
       "      <td>87750.0</td>\n",
       "      <td>64291.5</td>\n",
       "      <td>29250.0</td>\n",
       "      <td>87750.0</td>\n",
       "      <td>TUESDAY</td>\n",
       "      <td>15</td>\n",
       "      <td>...</td>\n",
       "      <td>Furniture</td>\n",
       "      <td>12.0</td>\n",
       "      <td>middle</td>\n",
       "      <td>POS industry with interest</td>\n",
       "      <td>365243.0</td>\n",
       "      <td>-1604.0</td>\n",
       "      <td>-1274.0</td>\n",
       "      <td>-1304.0</td>\n",
       "      <td>-1297.0</td>\n",
       "      <td>0.0</td>\n",
       "    </tr>\n",
       "    <tr>\n",
       "      <th>1670211</th>\n",
       "      <td>2659632</td>\n",
       "      <td>249544</td>\n",
       "      <td>Consumer loans</td>\n",
       "      <td>11520.855</td>\n",
       "      <td>105237.0</td>\n",
       "      <td>102523.5</td>\n",
       "      <td>10525.5</td>\n",
       "      <td>105237.0</td>\n",
       "      <td>MONDAY</td>\n",
       "      <td>12</td>\n",
       "      <td>...</td>\n",
       "      <td>Consumer electronics</td>\n",
       "      <td>10.0</td>\n",
       "      <td>low_normal</td>\n",
       "      <td>POS household with interest</td>\n",
       "      <td>365243.0</td>\n",
       "      <td>-1457.0</td>\n",
       "      <td>-1187.0</td>\n",
       "      <td>-1187.0</td>\n",
       "      <td>-1181.0</td>\n",
       "      <td>0.0</td>\n",
       "    </tr>\n",
       "    <tr>\n",
       "      <th>1670212</th>\n",
       "      <td>2785582</td>\n",
       "      <td>400317</td>\n",
       "      <td>Cash loans</td>\n",
       "      <td>18821.520</td>\n",
       "      <td>180000.0</td>\n",
       "      <td>191880.0</td>\n",
       "      <td>NaN</td>\n",
       "      <td>180000.0</td>\n",
       "      <td>WEDNESDAY</td>\n",
       "      <td>9</td>\n",
       "      <td>...</td>\n",
       "      <td>XNA</td>\n",
       "      <td>12.0</td>\n",
       "      <td>low_normal</td>\n",
       "      <td>Cash X-Sell: low</td>\n",
       "      <td>365243.0</td>\n",
       "      <td>-1155.0</td>\n",
       "      <td>-825.0</td>\n",
       "      <td>-825.0</td>\n",
       "      <td>-817.0</td>\n",
       "      <td>1.0</td>\n",
       "    </tr>\n",
       "    <tr>\n",
       "      <th>1670213</th>\n",
       "      <td>2418762</td>\n",
       "      <td>261212</td>\n",
       "      <td>Cash loans</td>\n",
       "      <td>16431.300</td>\n",
       "      <td>360000.0</td>\n",
       "      <td>360000.0</td>\n",
       "      <td>NaN</td>\n",
       "      <td>360000.0</td>\n",
       "      <td>SUNDAY</td>\n",
       "      <td>10</td>\n",
       "      <td>...</td>\n",
       "      <td>XNA</td>\n",
       "      <td>48.0</td>\n",
       "      <td>middle</td>\n",
       "      <td>Cash X-Sell: middle</td>\n",
       "      <td>365243.0</td>\n",
       "      <td>-1163.0</td>\n",
       "      <td>247.0</td>\n",
       "      <td>-443.0</td>\n",
       "      <td>-423.0</td>\n",
       "      <td>0.0</td>\n",
       "    </tr>\n",
       "  </tbody>\n",
       "</table>\n",
       "<p>1670214 rows × 37 columns</p>\n",
       "</div>"
      ],
      "text/plain": [
       "         SK_ID_PREV  SK_ID_CURR NAME_CONTRACT_TYPE  AMT_ANNUITY  \\\n",
       "0           2030495      271877     Consumer loans     1730.430   \n",
       "1           2802425      108129         Cash loans    25188.615   \n",
       "2           2523466      122040         Cash loans    15060.735   \n",
       "3           2819243      176158         Cash loans    47041.335   \n",
       "4           1784265      202054         Cash loans    31924.395   \n",
       "...             ...         ...                ...          ...   \n",
       "1670209     2300464      352015     Consumer loans    14704.290   \n",
       "1670210     2357031      334635     Consumer loans     6622.020   \n",
       "1670211     2659632      249544     Consumer loans    11520.855   \n",
       "1670212     2785582      400317         Cash loans    18821.520   \n",
       "1670213     2418762      261212         Cash loans    16431.300   \n",
       "\n",
       "         AMT_APPLICATION  AMT_CREDIT  AMT_DOWN_PAYMENT  AMT_GOODS_PRICE  \\\n",
       "0                17145.0     17145.0               0.0          17145.0   \n",
       "1               607500.0    679671.0               NaN         607500.0   \n",
       "2               112500.0    136444.5               NaN         112500.0   \n",
       "3               450000.0    470790.0               NaN         450000.0   \n",
       "4               337500.0    404055.0               NaN         337500.0   \n",
       "...                  ...         ...               ...              ...   \n",
       "1670209         267295.5    311400.0               0.0         267295.5   \n",
       "1670210          87750.0     64291.5           29250.0          87750.0   \n",
       "1670211         105237.0    102523.5           10525.5         105237.0   \n",
       "1670212         180000.0    191880.0               NaN         180000.0   \n",
       "1670213         360000.0    360000.0               NaN         360000.0   \n",
       "\n",
       "        WEEKDAY_APPR_PROCESS_START  HOUR_APPR_PROCESS_START  ...  \\\n",
       "0                         SATURDAY                       15  ...   \n",
       "1                         THURSDAY                       11  ...   \n",
       "2                          TUESDAY                       11  ...   \n",
       "3                           MONDAY                        7  ...   \n",
       "4                         THURSDAY                        9  ...   \n",
       "...                            ...                      ...  ...   \n",
       "1670209                  WEDNESDAY                       12  ...   \n",
       "1670210                    TUESDAY                       15  ...   \n",
       "1670211                     MONDAY                       12  ...   \n",
       "1670212                  WEDNESDAY                        9  ...   \n",
       "1670213                     SUNDAY                       10  ...   \n",
       "\n",
       "         NAME_SELLER_INDUSTRY  CNT_PAYMENT  NAME_YIELD_GROUP  \\\n",
       "0                Connectivity         12.0            middle   \n",
       "1                         XNA         36.0        low_action   \n",
       "2                         XNA         12.0              high   \n",
       "3                         XNA         12.0            middle   \n",
       "4                         XNA         24.0              high   \n",
       "...                       ...          ...               ...   \n",
       "1670209             Furniture         30.0        low_normal   \n",
       "1670210             Furniture         12.0            middle   \n",
       "1670211  Consumer electronics         10.0        low_normal   \n",
       "1670212                   XNA         12.0        low_normal   \n",
       "1670213                   XNA         48.0            middle   \n",
       "\n",
       "                 PRODUCT_COMBINATION  DAYS_FIRST_DRAWING DAYS_FIRST_DUE  \\\n",
       "0           POS mobile with interest            365243.0          -42.0   \n",
       "1                   Cash X-Sell: low            365243.0         -134.0   \n",
       "2                  Cash X-Sell: high            365243.0         -271.0   \n",
       "3                Cash X-Sell: middle            365243.0         -482.0   \n",
       "4                  Cash Street: high                 NaN            NaN   \n",
       "...                              ...                 ...            ...   \n",
       "1670209   POS industry with interest            365243.0         -508.0   \n",
       "1670210   POS industry with interest            365243.0        -1604.0   \n",
       "1670211  POS household with interest            365243.0        -1457.0   \n",
       "1670212             Cash X-Sell: low            365243.0        -1155.0   \n",
       "1670213          Cash X-Sell: middle            365243.0        -1163.0   \n",
       "\n",
       "        DAYS_LAST_DUE_1ST_VERSION  DAYS_LAST_DUE DAYS_TERMINATION  \\\n",
       "0                           300.0          -42.0            -37.0   \n",
       "1                           916.0       365243.0         365243.0   \n",
       "2                            59.0       365243.0         365243.0   \n",
       "3                          -152.0         -182.0           -177.0   \n",
       "4                             NaN            NaN              NaN   \n",
       "...                           ...            ...              ...   \n",
       "1670209                     362.0         -358.0           -351.0   \n",
       "1670210                   -1274.0        -1304.0          -1297.0   \n",
       "1670211                   -1187.0        -1187.0          -1181.0   \n",
       "1670212                    -825.0         -825.0           -817.0   \n",
       "1670213                     247.0         -443.0           -423.0   \n",
       "\n",
       "        NFLAG_INSURED_ON_APPROVAL  \n",
       "0                             0.0  \n",
       "1                             1.0  \n",
       "2                             1.0  \n",
       "3                             1.0  \n",
       "4                             NaN  \n",
       "...                           ...  \n",
       "1670209                       0.0  \n",
       "1670210                       0.0  \n",
       "1670211                       0.0  \n",
       "1670212                       1.0  \n",
       "1670213                       0.0  \n",
       "\n",
       "[1670214 rows x 37 columns]"
      ]
     },
     "execution_count": 3,
     "metadata": {},
     "output_type": "execute_result"
    }
   ],
   "source": [
    "previous_df=pd.read_csv(\"previous_application.csv\")\n",
    "previous_df"
   ]
  },
  {
   "cell_type": "code",
   "execution_count": 4,
   "metadata": {},
   "outputs": [
    {
     "data": {
      "text/plain": [
       "(1670214, 37)"
      ]
     },
     "execution_count": 4,
     "metadata": {},
     "output_type": "execute_result"
    }
   ],
   "source": [
    "previous_df.shape"
   ]
  },
  {
   "cell_type": "code",
   "execution_count": 5,
   "metadata": {},
   "outputs": [
    {
     "data": {
      "text/plain": [
       "SK_ID_PREV                           0\n",
       "SK_ID_CURR                           0\n",
       "NAME_CONTRACT_TYPE                   0\n",
       "AMT_ANNUITY                     372235\n",
       "AMT_APPLICATION                      0\n",
       "AMT_CREDIT                           1\n",
       "AMT_DOWN_PAYMENT                895844\n",
       "AMT_GOODS_PRICE                 385515\n",
       "WEEKDAY_APPR_PROCESS_START           0\n",
       "HOUR_APPR_PROCESS_START              0\n",
       "FLAG_LAST_APPL_PER_CONTRACT          0\n",
       "NFLAG_LAST_APPL_IN_DAY               0\n",
       "RATE_DOWN_PAYMENT               895844\n",
       "RATE_INTEREST_PRIMARY          1664263\n",
       "RATE_INTEREST_PRIVILEGED       1664263\n",
       "NAME_CASH_LOAN_PURPOSE               0\n",
       "NAME_CONTRACT_STATUS                 0\n",
       "DAYS_DECISION                        0\n",
       "NAME_PAYMENT_TYPE                    0\n",
       "CODE_REJECT_REASON                   0\n",
       "NAME_TYPE_SUITE                 820405\n",
       "NAME_CLIENT_TYPE                     0\n",
       "NAME_GOODS_CATEGORY                  0\n",
       "NAME_PORTFOLIO                       0\n",
       "NAME_PRODUCT_TYPE                    0\n",
       "CHANNEL_TYPE                         0\n",
       "SELLERPLACE_AREA                     0\n",
       "NAME_SELLER_INDUSTRY                 0\n",
       "CNT_PAYMENT                     372230\n",
       "NAME_YIELD_GROUP                     0\n",
       "PRODUCT_COMBINATION                346\n",
       "DAYS_FIRST_DRAWING              673065\n",
       "DAYS_FIRST_DUE                  673065\n",
       "DAYS_LAST_DUE_1ST_VERSION       673065\n",
       "DAYS_LAST_DUE                   673065\n",
       "DAYS_TERMINATION                673065\n",
       "NFLAG_INSURED_ON_APPROVAL       673065\n",
       "dtype: int64"
      ]
     },
     "execution_count": 5,
     "metadata": {},
     "output_type": "execute_result"
    }
   ],
   "source": [
    "previous_df.isnull().sum()"
   ]
  },
  {
   "cell_type": "markdown",
   "metadata": {},
   "source": [
    "*dropped unwanted  24 columns "
   ]
  },
  {
   "cell_type": "code",
   "execution_count": 6,
   "metadata": {},
   "outputs": [],
   "source": [
    "previous_df.drop(['SK_ID_PREV','SK_ID_CURR','AMT_DOWN_PAYMENT','AMT_GOODS_PRICE','WEEKDAY_APPR_PROCESS_START','HOUR_APPR_PROCESS_START','FLAG_LAST_APPL_PER_CONTRACT','NFLAG_LAST_APPL_IN_DAY','NAME_CASH_LOAN_PURPOSE','DAYS_DECISION','NAME_PAYMENT_TYPE','NAME_TYPE_SUITE','NAME_GOODS_CATEGORY','NAME_PRODUCT_TYPE','CHANNEL_TYPE','SELLERPLACE_AREA','CNT_PAYMENT','PRODUCT_COMBINATION','DAYS_FIRST_DRAWING','DAYS_FIRST_DUE','DAYS_LAST_DUE_1ST_VERSION','DAYS_LAST_DUE','DAYS_TERMINATION','NFLAG_INSURED_ON_APPROVAL'],inplace=True,axis=1)"
   ]
  },
  {
   "cell_type": "code",
   "execution_count": 7,
   "metadata": {},
   "outputs": [
    {
     "data": {
      "text/html": [
       "<div>\n",
       "<style scoped>\n",
       "    .dataframe tbody tr th:only-of-type {\n",
       "        vertical-align: middle;\n",
       "    }\n",
       "\n",
       "    .dataframe tbody tr th {\n",
       "        vertical-align: top;\n",
       "    }\n",
       "\n",
       "    .dataframe thead th {\n",
       "        text-align: right;\n",
       "    }\n",
       "</style>\n",
       "<table border=\"1\" class=\"dataframe\">\n",
       "  <thead>\n",
       "    <tr style=\"text-align: right;\">\n",
       "      <th></th>\n",
       "      <th>NAME_CONTRACT_TYPE</th>\n",
       "      <th>AMT_ANNUITY</th>\n",
       "      <th>AMT_APPLICATION</th>\n",
       "      <th>AMT_CREDIT</th>\n",
       "      <th>RATE_DOWN_PAYMENT</th>\n",
       "      <th>RATE_INTEREST_PRIMARY</th>\n",
       "      <th>RATE_INTEREST_PRIVILEGED</th>\n",
       "      <th>NAME_CONTRACT_STATUS</th>\n",
       "      <th>CODE_REJECT_REASON</th>\n",
       "      <th>NAME_CLIENT_TYPE</th>\n",
       "      <th>NAME_PORTFOLIO</th>\n",
       "      <th>NAME_SELLER_INDUSTRY</th>\n",
       "      <th>NAME_YIELD_GROUP</th>\n",
       "    </tr>\n",
       "  </thead>\n",
       "  <tbody>\n",
       "    <tr>\n",
       "      <th>0</th>\n",
       "      <td>Consumer loans</td>\n",
       "      <td>1730.430</td>\n",
       "      <td>17145.0</td>\n",
       "      <td>17145.0</td>\n",
       "      <td>0.000000</td>\n",
       "      <td>0.182832</td>\n",
       "      <td>0.867336</td>\n",
       "      <td>Approved</td>\n",
       "      <td>XAP</td>\n",
       "      <td>Repeater</td>\n",
       "      <td>POS</td>\n",
       "      <td>Connectivity</td>\n",
       "      <td>middle</td>\n",
       "    </tr>\n",
       "    <tr>\n",
       "      <th>1</th>\n",
       "      <td>Cash loans</td>\n",
       "      <td>25188.615</td>\n",
       "      <td>607500.0</td>\n",
       "      <td>679671.0</td>\n",
       "      <td>NaN</td>\n",
       "      <td>NaN</td>\n",
       "      <td>NaN</td>\n",
       "      <td>Approved</td>\n",
       "      <td>XAP</td>\n",
       "      <td>Repeater</td>\n",
       "      <td>Cash</td>\n",
       "      <td>XNA</td>\n",
       "      <td>low_action</td>\n",
       "    </tr>\n",
       "    <tr>\n",
       "      <th>2</th>\n",
       "      <td>Cash loans</td>\n",
       "      <td>15060.735</td>\n",
       "      <td>112500.0</td>\n",
       "      <td>136444.5</td>\n",
       "      <td>NaN</td>\n",
       "      <td>NaN</td>\n",
       "      <td>NaN</td>\n",
       "      <td>Approved</td>\n",
       "      <td>XAP</td>\n",
       "      <td>Repeater</td>\n",
       "      <td>Cash</td>\n",
       "      <td>XNA</td>\n",
       "      <td>high</td>\n",
       "    </tr>\n",
       "    <tr>\n",
       "      <th>3</th>\n",
       "      <td>Cash loans</td>\n",
       "      <td>47041.335</td>\n",
       "      <td>450000.0</td>\n",
       "      <td>470790.0</td>\n",
       "      <td>NaN</td>\n",
       "      <td>NaN</td>\n",
       "      <td>NaN</td>\n",
       "      <td>Approved</td>\n",
       "      <td>XAP</td>\n",
       "      <td>Repeater</td>\n",
       "      <td>Cash</td>\n",
       "      <td>XNA</td>\n",
       "      <td>middle</td>\n",
       "    </tr>\n",
       "    <tr>\n",
       "      <th>4</th>\n",
       "      <td>Cash loans</td>\n",
       "      <td>31924.395</td>\n",
       "      <td>337500.0</td>\n",
       "      <td>404055.0</td>\n",
       "      <td>NaN</td>\n",
       "      <td>NaN</td>\n",
       "      <td>NaN</td>\n",
       "      <td>Refused</td>\n",
       "      <td>HC</td>\n",
       "      <td>Repeater</td>\n",
       "      <td>Cash</td>\n",
       "      <td>XNA</td>\n",
       "      <td>high</td>\n",
       "    </tr>\n",
       "    <tr>\n",
       "      <th>...</th>\n",
       "      <td>...</td>\n",
       "      <td>...</td>\n",
       "      <td>...</td>\n",
       "      <td>...</td>\n",
       "      <td>...</td>\n",
       "      <td>...</td>\n",
       "      <td>...</td>\n",
       "      <td>...</td>\n",
       "      <td>...</td>\n",
       "      <td>...</td>\n",
       "      <td>...</td>\n",
       "      <td>...</td>\n",
       "      <td>...</td>\n",
       "    </tr>\n",
       "    <tr>\n",
       "      <th>1670209</th>\n",
       "      <td>Consumer loans</td>\n",
       "      <td>14704.290</td>\n",
       "      <td>267295.5</td>\n",
       "      <td>311400.0</td>\n",
       "      <td>0.000000</td>\n",
       "      <td>NaN</td>\n",
       "      <td>NaN</td>\n",
       "      <td>Approved</td>\n",
       "      <td>XAP</td>\n",
       "      <td>Refreshed</td>\n",
       "      <td>POS</td>\n",
       "      <td>Furniture</td>\n",
       "      <td>low_normal</td>\n",
       "    </tr>\n",
       "    <tr>\n",
       "      <th>1670210</th>\n",
       "      <td>Consumer loans</td>\n",
       "      <td>6622.020</td>\n",
       "      <td>87750.0</td>\n",
       "      <td>64291.5</td>\n",
       "      <td>0.340554</td>\n",
       "      <td>NaN</td>\n",
       "      <td>NaN</td>\n",
       "      <td>Approved</td>\n",
       "      <td>XAP</td>\n",
       "      <td>New</td>\n",
       "      <td>POS</td>\n",
       "      <td>Furniture</td>\n",
       "      <td>middle</td>\n",
       "    </tr>\n",
       "    <tr>\n",
       "      <th>1670211</th>\n",
       "      <td>Consumer loans</td>\n",
       "      <td>11520.855</td>\n",
       "      <td>105237.0</td>\n",
       "      <td>102523.5</td>\n",
       "      <td>0.101401</td>\n",
       "      <td>NaN</td>\n",
       "      <td>NaN</td>\n",
       "      <td>Approved</td>\n",
       "      <td>XAP</td>\n",
       "      <td>Repeater</td>\n",
       "      <td>POS</td>\n",
       "      <td>Consumer electronics</td>\n",
       "      <td>low_normal</td>\n",
       "    </tr>\n",
       "    <tr>\n",
       "      <th>1670212</th>\n",
       "      <td>Cash loans</td>\n",
       "      <td>18821.520</td>\n",
       "      <td>180000.0</td>\n",
       "      <td>191880.0</td>\n",
       "      <td>NaN</td>\n",
       "      <td>NaN</td>\n",
       "      <td>NaN</td>\n",
       "      <td>Approved</td>\n",
       "      <td>XAP</td>\n",
       "      <td>Repeater</td>\n",
       "      <td>Cash</td>\n",
       "      <td>XNA</td>\n",
       "      <td>low_normal</td>\n",
       "    </tr>\n",
       "    <tr>\n",
       "      <th>1670213</th>\n",
       "      <td>Cash loans</td>\n",
       "      <td>16431.300</td>\n",
       "      <td>360000.0</td>\n",
       "      <td>360000.0</td>\n",
       "      <td>NaN</td>\n",
       "      <td>NaN</td>\n",
       "      <td>NaN</td>\n",
       "      <td>Approved</td>\n",
       "      <td>XAP</td>\n",
       "      <td>Repeater</td>\n",
       "      <td>Cash</td>\n",
       "      <td>XNA</td>\n",
       "      <td>middle</td>\n",
       "    </tr>\n",
       "  </tbody>\n",
       "</table>\n",
       "<p>1670214 rows × 13 columns</p>\n",
       "</div>"
      ],
      "text/plain": [
       "        NAME_CONTRACT_TYPE  AMT_ANNUITY  AMT_APPLICATION  AMT_CREDIT  \\\n",
       "0           Consumer loans     1730.430          17145.0     17145.0   \n",
       "1               Cash loans    25188.615         607500.0    679671.0   \n",
       "2               Cash loans    15060.735         112500.0    136444.5   \n",
       "3               Cash loans    47041.335         450000.0    470790.0   \n",
       "4               Cash loans    31924.395         337500.0    404055.0   \n",
       "...                    ...          ...              ...         ...   \n",
       "1670209     Consumer loans    14704.290         267295.5    311400.0   \n",
       "1670210     Consumer loans     6622.020          87750.0     64291.5   \n",
       "1670211     Consumer loans    11520.855         105237.0    102523.5   \n",
       "1670212         Cash loans    18821.520         180000.0    191880.0   \n",
       "1670213         Cash loans    16431.300         360000.0    360000.0   \n",
       "\n",
       "         RATE_DOWN_PAYMENT  RATE_INTEREST_PRIMARY  RATE_INTEREST_PRIVILEGED  \\\n",
       "0                 0.000000               0.182832                  0.867336   \n",
       "1                      NaN                    NaN                       NaN   \n",
       "2                      NaN                    NaN                       NaN   \n",
       "3                      NaN                    NaN                       NaN   \n",
       "4                      NaN                    NaN                       NaN   \n",
       "...                    ...                    ...                       ...   \n",
       "1670209           0.000000                    NaN                       NaN   \n",
       "1670210           0.340554                    NaN                       NaN   \n",
       "1670211           0.101401                    NaN                       NaN   \n",
       "1670212                NaN                    NaN                       NaN   \n",
       "1670213                NaN                    NaN                       NaN   \n",
       "\n",
       "        NAME_CONTRACT_STATUS CODE_REJECT_REASON NAME_CLIENT_TYPE  \\\n",
       "0                   Approved                XAP         Repeater   \n",
       "1                   Approved                XAP         Repeater   \n",
       "2                   Approved                XAP         Repeater   \n",
       "3                   Approved                XAP         Repeater   \n",
       "4                    Refused                 HC         Repeater   \n",
       "...                      ...                ...              ...   \n",
       "1670209             Approved                XAP        Refreshed   \n",
       "1670210             Approved                XAP              New   \n",
       "1670211             Approved                XAP         Repeater   \n",
       "1670212             Approved                XAP         Repeater   \n",
       "1670213             Approved                XAP         Repeater   \n",
       "\n",
       "        NAME_PORTFOLIO  NAME_SELLER_INDUSTRY NAME_YIELD_GROUP  \n",
       "0                  POS          Connectivity           middle  \n",
       "1                 Cash                   XNA       low_action  \n",
       "2                 Cash                   XNA             high  \n",
       "3                 Cash                   XNA           middle  \n",
       "4                 Cash                   XNA             high  \n",
       "...                ...                   ...              ...  \n",
       "1670209            POS             Furniture       low_normal  \n",
       "1670210            POS             Furniture           middle  \n",
       "1670211            POS  Consumer electronics       low_normal  \n",
       "1670212           Cash                   XNA       low_normal  \n",
       "1670213           Cash                   XNA           middle  \n",
       "\n",
       "[1670214 rows x 13 columns]"
      ]
     },
     "execution_count": 7,
     "metadata": {},
     "output_type": "execute_result"
    }
   ],
   "source": [
    "previous_df"
   ]
  },
  {
   "cell_type": "code",
   "execution_count": 8,
   "metadata": {},
   "outputs": [
    {
     "data": {
      "text/plain": [
       "(1670214, 13)"
      ]
     },
     "execution_count": 8,
     "metadata": {},
     "output_type": "execute_result"
    }
   ],
   "source": [
    "previous_df.shape"
   ]
  },
  {
   "cell_type": "markdown",
   "metadata": {},
   "source": [
    "* as rate of intersets are something important that each client will check and take the decision to opt for a loan or not "
   ]
  },
  {
   "cell_type": "code",
   "execution_count": 9,
   "metadata": {},
   "outputs": [],
   "source": [
    "# RATE_DOWN_PAYMENT, RATE_INTEREST_PRIMARY, RATE_INTEREST_PRIVILEGED, checking for null values and replacing it with mean values "
   ]
  },
  {
   "cell_type": "code",
   "execution_count": 10,
   "metadata": {},
   "outputs": [
    {
     "data": {
      "text/plain": [
       "dtype('float64')"
      ]
     },
     "execution_count": 10,
     "metadata": {},
     "output_type": "execute_result"
    }
   ],
   "source": [
    "previous_df[\"RATE_INTEREST_PRIMARY\"].dtypes"
   ]
  },
  {
   "cell_type": "code",
   "execution_count": 11,
   "metadata": {},
   "outputs": [
    {
     "data": {
      "text/plain": [
       "(1670214,)"
      ]
     },
     "execution_count": 11,
     "metadata": {},
     "output_type": "execute_result"
    }
   ],
   "source": [
    "previous_df[\"RATE_INTEREST_PRIMARY\"].shape"
   ]
  },
  {
   "cell_type": "code",
   "execution_count": 12,
   "metadata": {},
   "outputs": [
    {
     "data": {
      "text/plain": [
       "count    5951.000000\n",
       "mean        0.188357\n",
       "std         0.087671\n",
       "min         0.034781\n",
       "25%         0.160716\n",
       "50%         0.189122\n",
       "75%         0.193330\n",
       "max         1.000000\n",
       "Name: RATE_INTEREST_PRIMARY, dtype: float64"
      ]
     },
     "execution_count": 12,
     "metadata": {},
     "output_type": "execute_result"
    }
   ],
   "source": [
    "previous_df[\"RATE_INTEREST_PRIMARY\"].describe()"
   ]
  },
  {
   "cell_type": "code",
   "execution_count": 13,
   "metadata": {},
   "outputs": [
    {
     "data": {
      "text/plain": [
       "0.18835688954982696"
      ]
     },
     "execution_count": 13,
     "metadata": {},
     "output_type": "execute_result"
    }
   ],
   "source": [
    "previous_df[\"RATE_INTEREST_PRIMARY\"].mean()"
   ]
  },
  {
   "cell_type": "code",
   "execution_count": 14,
   "metadata": {},
   "outputs": [
    {
     "data": {
      "text/plain": [
       "0.1891221806641732"
      ]
     },
     "execution_count": 14,
     "metadata": {},
     "output_type": "execute_result"
    }
   ],
   "source": [
    "previous_df[\"RATE_INTEREST_PRIMARY\"].median()"
   ]
  },
  {
   "cell_type": "code",
   "execution_count": 15,
   "metadata": {},
   "outputs": [
    {
     "data": {
      "text/plain": [
       "0    0.189136\n",
       "dtype: float64"
      ]
     },
     "execution_count": 15,
     "metadata": {},
     "output_type": "execute_result"
    }
   ],
   "source": [
    "previous_df[\"RATE_INTEREST_PRIMARY\"].mode()"
   ]
  },
  {
   "cell_type": "code",
   "execution_count": 16,
   "metadata": {},
   "outputs": [
    {
     "data": {
      "text/plain": [
       "1664263"
      ]
     },
     "execution_count": 16,
     "metadata": {},
     "output_type": "execute_result"
    }
   ],
   "source": [
    "previous_df[\"RATE_INTEREST_PRIMARY\"].isnull().sum()"
   ]
  },
  {
   "cell_type": "code",
   "execution_count": 17,
   "metadata": {},
   "outputs": [
    {
     "data": {
      "text/plain": [
       "0.189136    1218\n",
       "0.142440     951\n",
       "0.160716     821\n",
       "0.193330     681\n",
       "0.196900     573\n",
       "            ... \n",
       "0.523249       1\n",
       "0.207738       1\n",
       "0.132764       1\n",
       "0.142270       1\n",
       "0.207497       1\n",
       "Name: RATE_INTEREST_PRIMARY, Length: 148, dtype: int64"
      ]
     },
     "execution_count": 17,
     "metadata": {},
     "output_type": "execute_result"
    }
   ],
   "source": [
    "previous_df[\"RATE_INTEREST_PRIMARY\"].value_counts()"
   ]
  },
  {
   "cell_type": "code",
   "execution_count": 18,
   "metadata": {},
   "outputs": [
    {
     "data": {
      "text/html": [
       "<div>\n",
       "<style scoped>\n",
       "    .dataframe tbody tr th:only-of-type {\n",
       "        vertical-align: middle;\n",
       "    }\n",
       "\n",
       "    .dataframe tbody tr th {\n",
       "        vertical-align: top;\n",
       "    }\n",
       "\n",
       "    .dataframe thead th {\n",
       "        text-align: right;\n",
       "    }\n",
       "</style>\n",
       "<table border=\"1\" class=\"dataframe\">\n",
       "  <thead>\n",
       "    <tr style=\"text-align: right;\">\n",
       "      <th></th>\n",
       "      <th>NAME_CONTRACT_TYPE</th>\n",
       "      <th>AMT_ANNUITY</th>\n",
       "      <th>AMT_APPLICATION</th>\n",
       "      <th>AMT_CREDIT</th>\n",
       "      <th>RATE_DOWN_PAYMENT</th>\n",
       "      <th>RATE_INTEREST_PRIMARY</th>\n",
       "      <th>RATE_INTEREST_PRIVILEGED</th>\n",
       "      <th>NAME_CONTRACT_STATUS</th>\n",
       "      <th>CODE_REJECT_REASON</th>\n",
       "      <th>NAME_CLIENT_TYPE</th>\n",
       "      <th>NAME_PORTFOLIO</th>\n",
       "      <th>NAME_SELLER_INDUSTRY</th>\n",
       "      <th>NAME_YIELD_GROUP</th>\n",
       "    </tr>\n",
       "  </thead>\n",
       "  <tbody>\n",
       "    <tr>\n",
       "      <th>0</th>\n",
       "      <td>Consumer loans</td>\n",
       "      <td>1730.430</td>\n",
       "      <td>17145.0</td>\n",
       "      <td>17145.0</td>\n",
       "      <td>0.000000</td>\n",
       "      <td>0.182832</td>\n",
       "      <td>0.867336</td>\n",
       "      <td>Approved</td>\n",
       "      <td>XAP</td>\n",
       "      <td>Repeater</td>\n",
       "      <td>POS</td>\n",
       "      <td>Connectivity</td>\n",
       "      <td>middle</td>\n",
       "    </tr>\n",
       "    <tr>\n",
       "      <th>1</th>\n",
       "      <td>Cash loans</td>\n",
       "      <td>25188.615</td>\n",
       "      <td>607500.0</td>\n",
       "      <td>679671.0</td>\n",
       "      <td>NaN</td>\n",
       "      <td>0.188357</td>\n",
       "      <td>NaN</td>\n",
       "      <td>Approved</td>\n",
       "      <td>XAP</td>\n",
       "      <td>Repeater</td>\n",
       "      <td>Cash</td>\n",
       "      <td>XNA</td>\n",
       "      <td>low_action</td>\n",
       "    </tr>\n",
       "    <tr>\n",
       "      <th>2</th>\n",
       "      <td>Cash loans</td>\n",
       "      <td>15060.735</td>\n",
       "      <td>112500.0</td>\n",
       "      <td>136444.5</td>\n",
       "      <td>NaN</td>\n",
       "      <td>0.188357</td>\n",
       "      <td>NaN</td>\n",
       "      <td>Approved</td>\n",
       "      <td>XAP</td>\n",
       "      <td>Repeater</td>\n",
       "      <td>Cash</td>\n",
       "      <td>XNA</td>\n",
       "      <td>high</td>\n",
       "    </tr>\n",
       "    <tr>\n",
       "      <th>3</th>\n",
       "      <td>Cash loans</td>\n",
       "      <td>47041.335</td>\n",
       "      <td>450000.0</td>\n",
       "      <td>470790.0</td>\n",
       "      <td>NaN</td>\n",
       "      <td>0.188357</td>\n",
       "      <td>NaN</td>\n",
       "      <td>Approved</td>\n",
       "      <td>XAP</td>\n",
       "      <td>Repeater</td>\n",
       "      <td>Cash</td>\n",
       "      <td>XNA</td>\n",
       "      <td>middle</td>\n",
       "    </tr>\n",
       "    <tr>\n",
       "      <th>4</th>\n",
       "      <td>Cash loans</td>\n",
       "      <td>31924.395</td>\n",
       "      <td>337500.0</td>\n",
       "      <td>404055.0</td>\n",
       "      <td>NaN</td>\n",
       "      <td>0.188357</td>\n",
       "      <td>NaN</td>\n",
       "      <td>Refused</td>\n",
       "      <td>HC</td>\n",
       "      <td>Repeater</td>\n",
       "      <td>Cash</td>\n",
       "      <td>XNA</td>\n",
       "      <td>high</td>\n",
       "    </tr>\n",
       "    <tr>\n",
       "      <th>...</th>\n",
       "      <td>...</td>\n",
       "      <td>...</td>\n",
       "      <td>...</td>\n",
       "      <td>...</td>\n",
       "      <td>...</td>\n",
       "      <td>...</td>\n",
       "      <td>...</td>\n",
       "      <td>...</td>\n",
       "      <td>...</td>\n",
       "      <td>...</td>\n",
       "      <td>...</td>\n",
       "      <td>...</td>\n",
       "      <td>...</td>\n",
       "    </tr>\n",
       "    <tr>\n",
       "      <th>1670209</th>\n",
       "      <td>Consumer loans</td>\n",
       "      <td>14704.290</td>\n",
       "      <td>267295.5</td>\n",
       "      <td>311400.0</td>\n",
       "      <td>0.000000</td>\n",
       "      <td>0.188357</td>\n",
       "      <td>NaN</td>\n",
       "      <td>Approved</td>\n",
       "      <td>XAP</td>\n",
       "      <td>Refreshed</td>\n",
       "      <td>POS</td>\n",
       "      <td>Furniture</td>\n",
       "      <td>low_normal</td>\n",
       "    </tr>\n",
       "    <tr>\n",
       "      <th>1670210</th>\n",
       "      <td>Consumer loans</td>\n",
       "      <td>6622.020</td>\n",
       "      <td>87750.0</td>\n",
       "      <td>64291.5</td>\n",
       "      <td>0.340554</td>\n",
       "      <td>0.188357</td>\n",
       "      <td>NaN</td>\n",
       "      <td>Approved</td>\n",
       "      <td>XAP</td>\n",
       "      <td>New</td>\n",
       "      <td>POS</td>\n",
       "      <td>Furniture</td>\n",
       "      <td>middle</td>\n",
       "    </tr>\n",
       "    <tr>\n",
       "      <th>1670211</th>\n",
       "      <td>Consumer loans</td>\n",
       "      <td>11520.855</td>\n",
       "      <td>105237.0</td>\n",
       "      <td>102523.5</td>\n",
       "      <td>0.101401</td>\n",
       "      <td>0.188357</td>\n",
       "      <td>NaN</td>\n",
       "      <td>Approved</td>\n",
       "      <td>XAP</td>\n",
       "      <td>Repeater</td>\n",
       "      <td>POS</td>\n",
       "      <td>Consumer electronics</td>\n",
       "      <td>low_normal</td>\n",
       "    </tr>\n",
       "    <tr>\n",
       "      <th>1670212</th>\n",
       "      <td>Cash loans</td>\n",
       "      <td>18821.520</td>\n",
       "      <td>180000.0</td>\n",
       "      <td>191880.0</td>\n",
       "      <td>NaN</td>\n",
       "      <td>0.188357</td>\n",
       "      <td>NaN</td>\n",
       "      <td>Approved</td>\n",
       "      <td>XAP</td>\n",
       "      <td>Repeater</td>\n",
       "      <td>Cash</td>\n",
       "      <td>XNA</td>\n",
       "      <td>low_normal</td>\n",
       "    </tr>\n",
       "    <tr>\n",
       "      <th>1670213</th>\n",
       "      <td>Cash loans</td>\n",
       "      <td>16431.300</td>\n",
       "      <td>360000.0</td>\n",
       "      <td>360000.0</td>\n",
       "      <td>NaN</td>\n",
       "      <td>0.188357</td>\n",
       "      <td>NaN</td>\n",
       "      <td>Approved</td>\n",
       "      <td>XAP</td>\n",
       "      <td>Repeater</td>\n",
       "      <td>Cash</td>\n",
       "      <td>XNA</td>\n",
       "      <td>middle</td>\n",
       "    </tr>\n",
       "  </tbody>\n",
       "</table>\n",
       "<p>1670214 rows × 13 columns</p>\n",
       "</div>"
      ],
      "text/plain": [
       "        NAME_CONTRACT_TYPE  AMT_ANNUITY  AMT_APPLICATION  AMT_CREDIT  \\\n",
       "0           Consumer loans     1730.430          17145.0     17145.0   \n",
       "1               Cash loans    25188.615         607500.0    679671.0   \n",
       "2               Cash loans    15060.735         112500.0    136444.5   \n",
       "3               Cash loans    47041.335         450000.0    470790.0   \n",
       "4               Cash loans    31924.395         337500.0    404055.0   \n",
       "...                    ...          ...              ...         ...   \n",
       "1670209     Consumer loans    14704.290         267295.5    311400.0   \n",
       "1670210     Consumer loans     6622.020          87750.0     64291.5   \n",
       "1670211     Consumer loans    11520.855         105237.0    102523.5   \n",
       "1670212         Cash loans    18821.520         180000.0    191880.0   \n",
       "1670213         Cash loans    16431.300         360000.0    360000.0   \n",
       "\n",
       "         RATE_DOWN_PAYMENT  RATE_INTEREST_PRIMARY  RATE_INTEREST_PRIVILEGED  \\\n",
       "0                 0.000000               0.182832                  0.867336   \n",
       "1                      NaN               0.188357                       NaN   \n",
       "2                      NaN               0.188357                       NaN   \n",
       "3                      NaN               0.188357                       NaN   \n",
       "4                      NaN               0.188357                       NaN   \n",
       "...                    ...                    ...                       ...   \n",
       "1670209           0.000000               0.188357                       NaN   \n",
       "1670210           0.340554               0.188357                       NaN   \n",
       "1670211           0.101401               0.188357                       NaN   \n",
       "1670212                NaN               0.188357                       NaN   \n",
       "1670213                NaN               0.188357                       NaN   \n",
       "\n",
       "        NAME_CONTRACT_STATUS CODE_REJECT_REASON NAME_CLIENT_TYPE  \\\n",
       "0                   Approved                XAP         Repeater   \n",
       "1                   Approved                XAP         Repeater   \n",
       "2                   Approved                XAP         Repeater   \n",
       "3                   Approved                XAP         Repeater   \n",
       "4                    Refused                 HC         Repeater   \n",
       "...                      ...                ...              ...   \n",
       "1670209             Approved                XAP        Refreshed   \n",
       "1670210             Approved                XAP              New   \n",
       "1670211             Approved                XAP         Repeater   \n",
       "1670212             Approved                XAP         Repeater   \n",
       "1670213             Approved                XAP         Repeater   \n",
       "\n",
       "        NAME_PORTFOLIO  NAME_SELLER_INDUSTRY NAME_YIELD_GROUP  \n",
       "0                  POS          Connectivity           middle  \n",
       "1                 Cash                   XNA       low_action  \n",
       "2                 Cash                   XNA             high  \n",
       "3                 Cash                   XNA           middle  \n",
       "4                 Cash                   XNA             high  \n",
       "...                ...                   ...              ...  \n",
       "1670209            POS             Furniture       low_normal  \n",
       "1670210            POS             Furniture           middle  \n",
       "1670211            POS  Consumer electronics       low_normal  \n",
       "1670212           Cash                   XNA       low_normal  \n",
       "1670213           Cash                   XNA           middle  \n",
       "\n",
       "[1670214 rows x 13 columns]"
      ]
     },
     "execution_count": 18,
     "metadata": {},
     "output_type": "execute_result"
    }
   ],
   "source": [
    "previous_df_rate_1=previous_df.fillna({'RATE_INTEREST_PRIMARY':0.18835688954982696})\n",
    "previous_df_rate_1"
   ]
  },
  {
   "cell_type": "code",
   "execution_count": 19,
   "metadata": {},
   "outputs": [
    {
     "data": {
      "text/plain": [
       "0"
      ]
     },
     "execution_count": 19,
     "metadata": {},
     "output_type": "execute_result"
    }
   ],
   "source": [
    "previous_df_rate_1[\"RATE_INTEREST_PRIMARY\"].isnull().sum()"
   ]
  },
  {
   "cell_type": "code",
   "execution_count": 20,
   "metadata": {},
   "outputs": [
    {
     "data": {
      "text/plain": [
       "dtype('float64')"
      ]
     },
     "execution_count": 20,
     "metadata": {},
     "output_type": "execute_result"
    }
   ],
   "source": [
    "previous_df_rate_1['RATE_DOWN_PAYMENT'].dtypes"
   ]
  },
  {
   "cell_type": "code",
   "execution_count": 21,
   "metadata": {},
   "outputs": [
    {
     "data": {
      "text/plain": [
       "(1670214,)"
      ]
     },
     "execution_count": 21,
     "metadata": {},
     "output_type": "execute_result"
    }
   ],
   "source": [
    "previous_df_rate_1['RATE_DOWN_PAYMENT'].shape"
   ]
  },
  {
   "cell_type": "code",
   "execution_count": 22,
   "metadata": {},
   "outputs": [
    {
     "data": {
      "text/plain": [
       "count    774370.000000\n",
       "mean          0.079637\n",
       "std           0.107823\n",
       "min          -0.000015\n",
       "25%           0.000000\n",
       "50%           0.051605\n",
       "75%           0.108909\n",
       "max           1.000000\n",
       "Name: RATE_DOWN_PAYMENT, dtype: float64"
      ]
     },
     "execution_count": 22,
     "metadata": {},
     "output_type": "execute_result"
    }
   ],
   "source": [
    "previous_df_rate_1['RATE_DOWN_PAYMENT'].describe()"
   ]
  },
  {
   "cell_type": "code",
   "execution_count": 23,
   "metadata": {},
   "outputs": [
    {
     "data": {
      "text/plain": [
       "0.0796368154283738"
      ]
     },
     "execution_count": 23,
     "metadata": {},
     "output_type": "execute_result"
    }
   ],
   "source": [
    "previous_df_rate_1['RATE_DOWN_PAYMENT'].mean()"
   ]
  },
  {
   "cell_type": "code",
   "execution_count": 24,
   "metadata": {},
   "outputs": [
    {
     "data": {
      "text/plain": [
       "0.051605084707529336"
      ]
     },
     "execution_count": 24,
     "metadata": {},
     "output_type": "execute_result"
    }
   ],
   "source": [
    "previous_df_rate_1['RATE_DOWN_PAYMENT'].median()"
   ]
  },
  {
   "cell_type": "code",
   "execution_count": 25,
   "metadata": {},
   "outputs": [
    {
     "data": {
      "text/plain": [
       "0    0.0\n",
       "dtype: float64"
      ]
     },
     "execution_count": 25,
     "metadata": {},
     "output_type": "execute_result"
    }
   ],
   "source": [
    "previous_df_rate_1['RATE_DOWN_PAYMENT'].mode()"
   ]
  },
  {
   "cell_type": "code",
   "execution_count": 26,
   "metadata": {},
   "outputs": [
    {
     "data": {
      "text/plain": [
       "895844"
      ]
     },
     "execution_count": 26,
     "metadata": {},
     "output_type": "execute_result"
    }
   ],
   "source": [
    "previous_df_rate_1['RATE_DOWN_PAYMENT'].isnull().sum()"
   ]
  },
  {
   "cell_type": "code",
   "execution_count": 27,
   "metadata": {},
   "outputs": [
    {
     "data": {
      "text/plain": [
       "0.000000    369854\n",
       "0.108909     36341\n",
       "0.217818      6482\n",
       "0.326727      1081\n",
       "0.544545       746\n",
       "             ...  \n",
       "0.097968         1\n",
       "0.097866         1\n",
       "0.445801         1\n",
       "0.203750         1\n",
       "0.099535         1\n",
       "Name: RATE_DOWN_PAYMENT, Length: 207033, dtype: int64"
      ]
     },
     "execution_count": 27,
     "metadata": {},
     "output_type": "execute_result"
    }
   ],
   "source": [
    "previous_df_rate_1['RATE_DOWN_PAYMENT'].value_counts()"
   ]
  },
  {
   "cell_type": "code",
   "execution_count": 28,
   "metadata": {},
   "outputs": [
    {
     "data": {
      "text/html": [
       "<div>\n",
       "<style scoped>\n",
       "    .dataframe tbody tr th:only-of-type {\n",
       "        vertical-align: middle;\n",
       "    }\n",
       "\n",
       "    .dataframe tbody tr th {\n",
       "        vertical-align: top;\n",
       "    }\n",
       "\n",
       "    .dataframe thead th {\n",
       "        text-align: right;\n",
       "    }\n",
       "</style>\n",
       "<table border=\"1\" class=\"dataframe\">\n",
       "  <thead>\n",
       "    <tr style=\"text-align: right;\">\n",
       "      <th></th>\n",
       "      <th>NAME_CONTRACT_TYPE</th>\n",
       "      <th>AMT_ANNUITY</th>\n",
       "      <th>AMT_APPLICATION</th>\n",
       "      <th>AMT_CREDIT</th>\n",
       "      <th>RATE_DOWN_PAYMENT</th>\n",
       "      <th>RATE_INTEREST_PRIMARY</th>\n",
       "      <th>RATE_INTEREST_PRIVILEGED</th>\n",
       "      <th>NAME_CONTRACT_STATUS</th>\n",
       "      <th>CODE_REJECT_REASON</th>\n",
       "      <th>NAME_CLIENT_TYPE</th>\n",
       "      <th>NAME_PORTFOLIO</th>\n",
       "      <th>NAME_SELLER_INDUSTRY</th>\n",
       "      <th>NAME_YIELD_GROUP</th>\n",
       "    </tr>\n",
       "  </thead>\n",
       "  <tbody>\n",
       "    <tr>\n",
       "      <th>0</th>\n",
       "      <td>Consumer loans</td>\n",
       "      <td>1730.430</td>\n",
       "      <td>17145.0</td>\n",
       "      <td>17145.0</td>\n",
       "      <td>0.000000</td>\n",
       "      <td>0.182832</td>\n",
       "      <td>0.867336</td>\n",
       "      <td>Approved</td>\n",
       "      <td>XAP</td>\n",
       "      <td>Repeater</td>\n",
       "      <td>POS</td>\n",
       "      <td>Connectivity</td>\n",
       "      <td>middle</td>\n",
       "    </tr>\n",
       "    <tr>\n",
       "      <th>1</th>\n",
       "      <td>Cash loans</td>\n",
       "      <td>25188.615</td>\n",
       "      <td>607500.0</td>\n",
       "      <td>679671.0</td>\n",
       "      <td>0.188357</td>\n",
       "      <td>0.188357</td>\n",
       "      <td>NaN</td>\n",
       "      <td>Approved</td>\n",
       "      <td>XAP</td>\n",
       "      <td>Repeater</td>\n",
       "      <td>Cash</td>\n",
       "      <td>XNA</td>\n",
       "      <td>low_action</td>\n",
       "    </tr>\n",
       "    <tr>\n",
       "      <th>2</th>\n",
       "      <td>Cash loans</td>\n",
       "      <td>15060.735</td>\n",
       "      <td>112500.0</td>\n",
       "      <td>136444.5</td>\n",
       "      <td>0.188357</td>\n",
       "      <td>0.188357</td>\n",
       "      <td>NaN</td>\n",
       "      <td>Approved</td>\n",
       "      <td>XAP</td>\n",
       "      <td>Repeater</td>\n",
       "      <td>Cash</td>\n",
       "      <td>XNA</td>\n",
       "      <td>high</td>\n",
       "    </tr>\n",
       "    <tr>\n",
       "      <th>3</th>\n",
       "      <td>Cash loans</td>\n",
       "      <td>47041.335</td>\n",
       "      <td>450000.0</td>\n",
       "      <td>470790.0</td>\n",
       "      <td>0.188357</td>\n",
       "      <td>0.188357</td>\n",
       "      <td>NaN</td>\n",
       "      <td>Approved</td>\n",
       "      <td>XAP</td>\n",
       "      <td>Repeater</td>\n",
       "      <td>Cash</td>\n",
       "      <td>XNA</td>\n",
       "      <td>middle</td>\n",
       "    </tr>\n",
       "    <tr>\n",
       "      <th>4</th>\n",
       "      <td>Cash loans</td>\n",
       "      <td>31924.395</td>\n",
       "      <td>337500.0</td>\n",
       "      <td>404055.0</td>\n",
       "      <td>0.188357</td>\n",
       "      <td>0.188357</td>\n",
       "      <td>NaN</td>\n",
       "      <td>Refused</td>\n",
       "      <td>HC</td>\n",
       "      <td>Repeater</td>\n",
       "      <td>Cash</td>\n",
       "      <td>XNA</td>\n",
       "      <td>high</td>\n",
       "    </tr>\n",
       "    <tr>\n",
       "      <th>...</th>\n",
       "      <td>...</td>\n",
       "      <td>...</td>\n",
       "      <td>...</td>\n",
       "      <td>...</td>\n",
       "      <td>...</td>\n",
       "      <td>...</td>\n",
       "      <td>...</td>\n",
       "      <td>...</td>\n",
       "      <td>...</td>\n",
       "      <td>...</td>\n",
       "      <td>...</td>\n",
       "      <td>...</td>\n",
       "      <td>...</td>\n",
       "    </tr>\n",
       "    <tr>\n",
       "      <th>1670209</th>\n",
       "      <td>Consumer loans</td>\n",
       "      <td>14704.290</td>\n",
       "      <td>267295.5</td>\n",
       "      <td>311400.0</td>\n",
       "      <td>0.000000</td>\n",
       "      <td>0.188357</td>\n",
       "      <td>NaN</td>\n",
       "      <td>Approved</td>\n",
       "      <td>XAP</td>\n",
       "      <td>Refreshed</td>\n",
       "      <td>POS</td>\n",
       "      <td>Furniture</td>\n",
       "      <td>low_normal</td>\n",
       "    </tr>\n",
       "    <tr>\n",
       "      <th>1670210</th>\n",
       "      <td>Consumer loans</td>\n",
       "      <td>6622.020</td>\n",
       "      <td>87750.0</td>\n",
       "      <td>64291.5</td>\n",
       "      <td>0.340554</td>\n",
       "      <td>0.188357</td>\n",
       "      <td>NaN</td>\n",
       "      <td>Approved</td>\n",
       "      <td>XAP</td>\n",
       "      <td>New</td>\n",
       "      <td>POS</td>\n",
       "      <td>Furniture</td>\n",
       "      <td>middle</td>\n",
       "    </tr>\n",
       "    <tr>\n",
       "      <th>1670211</th>\n",
       "      <td>Consumer loans</td>\n",
       "      <td>11520.855</td>\n",
       "      <td>105237.0</td>\n",
       "      <td>102523.5</td>\n",
       "      <td>0.101401</td>\n",
       "      <td>0.188357</td>\n",
       "      <td>NaN</td>\n",
       "      <td>Approved</td>\n",
       "      <td>XAP</td>\n",
       "      <td>Repeater</td>\n",
       "      <td>POS</td>\n",
       "      <td>Consumer electronics</td>\n",
       "      <td>low_normal</td>\n",
       "    </tr>\n",
       "    <tr>\n",
       "      <th>1670212</th>\n",
       "      <td>Cash loans</td>\n",
       "      <td>18821.520</td>\n",
       "      <td>180000.0</td>\n",
       "      <td>191880.0</td>\n",
       "      <td>0.188357</td>\n",
       "      <td>0.188357</td>\n",
       "      <td>NaN</td>\n",
       "      <td>Approved</td>\n",
       "      <td>XAP</td>\n",
       "      <td>Repeater</td>\n",
       "      <td>Cash</td>\n",
       "      <td>XNA</td>\n",
       "      <td>low_normal</td>\n",
       "    </tr>\n",
       "    <tr>\n",
       "      <th>1670213</th>\n",
       "      <td>Cash loans</td>\n",
       "      <td>16431.300</td>\n",
       "      <td>360000.0</td>\n",
       "      <td>360000.0</td>\n",
       "      <td>0.188357</td>\n",
       "      <td>0.188357</td>\n",
       "      <td>NaN</td>\n",
       "      <td>Approved</td>\n",
       "      <td>XAP</td>\n",
       "      <td>Repeater</td>\n",
       "      <td>Cash</td>\n",
       "      <td>XNA</td>\n",
       "      <td>middle</td>\n",
       "    </tr>\n",
       "  </tbody>\n",
       "</table>\n",
       "<p>1670214 rows × 13 columns</p>\n",
       "</div>"
      ],
      "text/plain": [
       "        NAME_CONTRACT_TYPE  AMT_ANNUITY  AMT_APPLICATION  AMT_CREDIT  \\\n",
       "0           Consumer loans     1730.430          17145.0     17145.0   \n",
       "1               Cash loans    25188.615         607500.0    679671.0   \n",
       "2               Cash loans    15060.735         112500.0    136444.5   \n",
       "3               Cash loans    47041.335         450000.0    470790.0   \n",
       "4               Cash loans    31924.395         337500.0    404055.0   \n",
       "...                    ...          ...              ...         ...   \n",
       "1670209     Consumer loans    14704.290         267295.5    311400.0   \n",
       "1670210     Consumer loans     6622.020          87750.0     64291.5   \n",
       "1670211     Consumer loans    11520.855         105237.0    102523.5   \n",
       "1670212         Cash loans    18821.520         180000.0    191880.0   \n",
       "1670213         Cash loans    16431.300         360000.0    360000.0   \n",
       "\n",
       "         RATE_DOWN_PAYMENT  RATE_INTEREST_PRIMARY  RATE_INTEREST_PRIVILEGED  \\\n",
       "0                 0.000000               0.182832                  0.867336   \n",
       "1                 0.188357               0.188357                       NaN   \n",
       "2                 0.188357               0.188357                       NaN   \n",
       "3                 0.188357               0.188357                       NaN   \n",
       "4                 0.188357               0.188357                       NaN   \n",
       "...                    ...                    ...                       ...   \n",
       "1670209           0.000000               0.188357                       NaN   \n",
       "1670210           0.340554               0.188357                       NaN   \n",
       "1670211           0.101401               0.188357                       NaN   \n",
       "1670212           0.188357               0.188357                       NaN   \n",
       "1670213           0.188357               0.188357                       NaN   \n",
       "\n",
       "        NAME_CONTRACT_STATUS CODE_REJECT_REASON NAME_CLIENT_TYPE  \\\n",
       "0                   Approved                XAP         Repeater   \n",
       "1                   Approved                XAP         Repeater   \n",
       "2                   Approved                XAP         Repeater   \n",
       "3                   Approved                XAP         Repeater   \n",
       "4                    Refused                 HC         Repeater   \n",
       "...                      ...                ...              ...   \n",
       "1670209             Approved                XAP        Refreshed   \n",
       "1670210             Approved                XAP              New   \n",
       "1670211             Approved                XAP         Repeater   \n",
       "1670212             Approved                XAP         Repeater   \n",
       "1670213             Approved                XAP         Repeater   \n",
       "\n",
       "        NAME_PORTFOLIO  NAME_SELLER_INDUSTRY NAME_YIELD_GROUP  \n",
       "0                  POS          Connectivity           middle  \n",
       "1                 Cash                   XNA       low_action  \n",
       "2                 Cash                   XNA             high  \n",
       "3                 Cash                   XNA           middle  \n",
       "4                 Cash                   XNA             high  \n",
       "...                ...                   ...              ...  \n",
       "1670209            POS             Furniture       low_normal  \n",
       "1670210            POS             Furniture           middle  \n",
       "1670211            POS  Consumer electronics       low_normal  \n",
       "1670212           Cash                   XNA       low_normal  \n",
       "1670213           Cash                   XNA           middle  \n",
       "\n",
       "[1670214 rows x 13 columns]"
      ]
     },
     "execution_count": 28,
     "metadata": {},
     "output_type": "execute_result"
    }
   ],
   "source": [
    "previous_df_rate_2=previous_df_rate_1.fillna({'RATE_DOWN_PAYMENT':0.18835688954792626})\n",
    "\n",
    "previous_df_rate_2"
   ]
  },
  {
   "cell_type": "code",
   "execution_count": 29,
   "metadata": {},
   "outputs": [
    {
     "data": {
      "text/plain": [
       "0"
      ]
     },
     "execution_count": 29,
     "metadata": {},
     "output_type": "execute_result"
    }
   ],
   "source": [
    "previous_df_rate_2['RATE_DOWN_PAYMENT'].isnull().sum()"
   ]
  },
  {
   "cell_type": "code",
   "execution_count": 30,
   "metadata": {},
   "outputs": [
    {
     "data": {
      "text/plain": [
       "dtype('float64')"
      ]
     },
     "execution_count": 30,
     "metadata": {},
     "output_type": "execute_result"
    }
   ],
   "source": [
    "previous_df_rate_2['RATE_INTEREST_PRIVILEGED'].dtypes"
   ]
  },
  {
   "cell_type": "code",
   "execution_count": 31,
   "metadata": {},
   "outputs": [
    {
     "data": {
      "text/plain": [
       "(1670214,)"
      ]
     },
     "execution_count": 31,
     "metadata": {},
     "output_type": "execute_result"
    }
   ],
   "source": [
    "previous_df_rate_2['RATE_INTEREST_PRIVILEGED'].shape"
   ]
  },
  {
   "cell_type": "code",
   "execution_count": 32,
   "metadata": {},
   "outputs": [
    {
     "data": {
      "text/plain": [
       "count    5951.000000\n",
       "mean        0.773503\n",
       "std         0.100879\n",
       "min         0.373150\n",
       "25%         0.715645\n",
       "50%         0.835095\n",
       "75%         0.852537\n",
       "max         1.000000\n",
       "Name: RATE_INTEREST_PRIVILEGED, dtype: float64"
      ]
     },
     "execution_count": 32,
     "metadata": {},
     "output_type": "execute_result"
    }
   ],
   "source": [
    "previous_df_rate_2['RATE_INTEREST_PRIVILEGED'].describe()"
   ]
  },
  {
   "cell_type": "code",
   "execution_count": 33,
   "metadata": {},
   "outputs": [
    {
     "data": {
      "text/plain": [
       "0.7735025434991628"
      ]
     },
     "execution_count": 33,
     "metadata": {},
     "output_type": "execute_result"
    }
   ],
   "source": [
    "previous_df_rate_2['RATE_INTEREST_PRIVILEGED'].mean()"
   ]
  },
  {
   "cell_type": "code",
   "execution_count": 34,
   "metadata": {},
   "outputs": [
    {
     "data": {
      "text/plain": [
       "0.8350951374207188"
      ]
     },
     "execution_count": 34,
     "metadata": {},
     "output_type": "execute_result"
    }
   ],
   "source": [
    "previous_df_rate_2['RATE_INTEREST_PRIVILEGED'].median()\n"
   ]
  },
  {
   "cell_type": "code",
   "execution_count": 35,
   "metadata": {},
   "outputs": [
    {
     "data": {
      "text/plain": [
       "0    0.835095\n",
       "dtype: float64"
      ]
     },
     "execution_count": 35,
     "metadata": {},
     "output_type": "execute_result"
    }
   ],
   "source": [
    "previous_df_rate_2['RATE_INTEREST_PRIVILEGED'].mode()"
   ]
  },
  {
   "cell_type": "code",
   "execution_count": 36,
   "metadata": {},
   "outputs": [
    {
     "data": {
      "text/plain": [
       "1664263"
      ]
     },
     "execution_count": 36,
     "metadata": {},
     "output_type": "execute_result"
    }
   ],
   "source": [
    "previous_df_rate_2['RATE_INTEREST_PRIVILEGED'].isnull().sum()"
   ]
  },
  {
   "cell_type": "code",
   "execution_count": 37,
   "metadata": {},
   "outputs": [
    {
     "data": {
      "text/plain": [
       "0.835095    1717\n",
       "0.715645    1046\n",
       "0.637949    1039\n",
       "0.867336     931\n",
       "0.852537     876\n",
       "0.568710     127\n",
       "0.424419      66\n",
       "0.513742      45\n",
       "0.832452      40\n",
       "0.845137      19\n",
       "0.644820       7\n",
       "0.637421       7\n",
       "0.780655       6\n",
       "0.725159       5\n",
       "0.790698       5\n",
       "0.806554       4\n",
       "0.436575       2\n",
       "0.373150       2\n",
       "0.548097       1\n",
       "1.000000       1\n",
       "0.542812       1\n",
       "0.484144       1\n",
       "0.820825       1\n",
       "0.854651       1\n",
       "0.502114       1\n",
       "Name: RATE_INTEREST_PRIVILEGED, dtype: int64"
      ]
     },
     "execution_count": 37,
     "metadata": {},
     "output_type": "execute_result"
    }
   ],
   "source": [
    "previous_df_rate_2['RATE_INTEREST_PRIVILEGED'].value_counts()\n"
   ]
  },
  {
   "cell_type": "code",
   "execution_count": 38,
   "metadata": {},
   "outputs": [
    {
     "data": {
      "text/html": [
       "<div>\n",
       "<style scoped>\n",
       "    .dataframe tbody tr th:only-of-type {\n",
       "        vertical-align: middle;\n",
       "    }\n",
       "\n",
       "    .dataframe tbody tr th {\n",
       "        vertical-align: top;\n",
       "    }\n",
       "\n",
       "    .dataframe thead th {\n",
       "        text-align: right;\n",
       "    }\n",
       "</style>\n",
       "<table border=\"1\" class=\"dataframe\">\n",
       "  <thead>\n",
       "    <tr style=\"text-align: right;\">\n",
       "      <th></th>\n",
       "      <th>NAME_CONTRACT_TYPE</th>\n",
       "      <th>AMT_ANNUITY</th>\n",
       "      <th>AMT_APPLICATION</th>\n",
       "      <th>AMT_CREDIT</th>\n",
       "      <th>RATE_DOWN_PAYMENT</th>\n",
       "      <th>RATE_INTEREST_PRIMARY</th>\n",
       "      <th>RATE_INTEREST_PRIVILEGED</th>\n",
       "      <th>NAME_CONTRACT_STATUS</th>\n",
       "      <th>CODE_REJECT_REASON</th>\n",
       "      <th>NAME_CLIENT_TYPE</th>\n",
       "      <th>NAME_PORTFOLIO</th>\n",
       "      <th>NAME_SELLER_INDUSTRY</th>\n",
       "      <th>NAME_YIELD_GROUP</th>\n",
       "    </tr>\n",
       "  </thead>\n",
       "  <tbody>\n",
       "    <tr>\n",
       "      <th>0</th>\n",
       "      <td>Consumer loans</td>\n",
       "      <td>1730.430</td>\n",
       "      <td>17145.0</td>\n",
       "      <td>17145.0</td>\n",
       "      <td>0.000000</td>\n",
       "      <td>0.182832</td>\n",
       "      <td>0.867336</td>\n",
       "      <td>Approved</td>\n",
       "      <td>XAP</td>\n",
       "      <td>Repeater</td>\n",
       "      <td>POS</td>\n",
       "      <td>Connectivity</td>\n",
       "      <td>middle</td>\n",
       "    </tr>\n",
       "    <tr>\n",
       "      <th>1</th>\n",
       "      <td>Cash loans</td>\n",
       "      <td>25188.615</td>\n",
       "      <td>607500.0</td>\n",
       "      <td>679671.0</td>\n",
       "      <td>0.188357</td>\n",
       "      <td>0.188357</td>\n",
       "      <td>0.773503</td>\n",
       "      <td>Approved</td>\n",
       "      <td>XAP</td>\n",
       "      <td>Repeater</td>\n",
       "      <td>Cash</td>\n",
       "      <td>XNA</td>\n",
       "      <td>low_action</td>\n",
       "    </tr>\n",
       "    <tr>\n",
       "      <th>2</th>\n",
       "      <td>Cash loans</td>\n",
       "      <td>15060.735</td>\n",
       "      <td>112500.0</td>\n",
       "      <td>136444.5</td>\n",
       "      <td>0.188357</td>\n",
       "      <td>0.188357</td>\n",
       "      <td>0.773503</td>\n",
       "      <td>Approved</td>\n",
       "      <td>XAP</td>\n",
       "      <td>Repeater</td>\n",
       "      <td>Cash</td>\n",
       "      <td>XNA</td>\n",
       "      <td>high</td>\n",
       "    </tr>\n",
       "    <tr>\n",
       "      <th>3</th>\n",
       "      <td>Cash loans</td>\n",
       "      <td>47041.335</td>\n",
       "      <td>450000.0</td>\n",
       "      <td>470790.0</td>\n",
       "      <td>0.188357</td>\n",
       "      <td>0.188357</td>\n",
       "      <td>0.773503</td>\n",
       "      <td>Approved</td>\n",
       "      <td>XAP</td>\n",
       "      <td>Repeater</td>\n",
       "      <td>Cash</td>\n",
       "      <td>XNA</td>\n",
       "      <td>middle</td>\n",
       "    </tr>\n",
       "    <tr>\n",
       "      <th>4</th>\n",
       "      <td>Cash loans</td>\n",
       "      <td>31924.395</td>\n",
       "      <td>337500.0</td>\n",
       "      <td>404055.0</td>\n",
       "      <td>0.188357</td>\n",
       "      <td>0.188357</td>\n",
       "      <td>0.773503</td>\n",
       "      <td>Refused</td>\n",
       "      <td>HC</td>\n",
       "      <td>Repeater</td>\n",
       "      <td>Cash</td>\n",
       "      <td>XNA</td>\n",
       "      <td>high</td>\n",
       "    </tr>\n",
       "    <tr>\n",
       "      <th>...</th>\n",
       "      <td>...</td>\n",
       "      <td>...</td>\n",
       "      <td>...</td>\n",
       "      <td>...</td>\n",
       "      <td>...</td>\n",
       "      <td>...</td>\n",
       "      <td>...</td>\n",
       "      <td>...</td>\n",
       "      <td>...</td>\n",
       "      <td>...</td>\n",
       "      <td>...</td>\n",
       "      <td>...</td>\n",
       "      <td>...</td>\n",
       "    </tr>\n",
       "    <tr>\n",
       "      <th>1670209</th>\n",
       "      <td>Consumer loans</td>\n",
       "      <td>14704.290</td>\n",
       "      <td>267295.5</td>\n",
       "      <td>311400.0</td>\n",
       "      <td>0.000000</td>\n",
       "      <td>0.188357</td>\n",
       "      <td>0.773503</td>\n",
       "      <td>Approved</td>\n",
       "      <td>XAP</td>\n",
       "      <td>Refreshed</td>\n",
       "      <td>POS</td>\n",
       "      <td>Furniture</td>\n",
       "      <td>low_normal</td>\n",
       "    </tr>\n",
       "    <tr>\n",
       "      <th>1670210</th>\n",
       "      <td>Consumer loans</td>\n",
       "      <td>6622.020</td>\n",
       "      <td>87750.0</td>\n",
       "      <td>64291.5</td>\n",
       "      <td>0.340554</td>\n",
       "      <td>0.188357</td>\n",
       "      <td>0.773503</td>\n",
       "      <td>Approved</td>\n",
       "      <td>XAP</td>\n",
       "      <td>New</td>\n",
       "      <td>POS</td>\n",
       "      <td>Furniture</td>\n",
       "      <td>middle</td>\n",
       "    </tr>\n",
       "    <tr>\n",
       "      <th>1670211</th>\n",
       "      <td>Consumer loans</td>\n",
       "      <td>11520.855</td>\n",
       "      <td>105237.0</td>\n",
       "      <td>102523.5</td>\n",
       "      <td>0.101401</td>\n",
       "      <td>0.188357</td>\n",
       "      <td>0.773503</td>\n",
       "      <td>Approved</td>\n",
       "      <td>XAP</td>\n",
       "      <td>Repeater</td>\n",
       "      <td>POS</td>\n",
       "      <td>Consumer electronics</td>\n",
       "      <td>low_normal</td>\n",
       "    </tr>\n",
       "    <tr>\n",
       "      <th>1670212</th>\n",
       "      <td>Cash loans</td>\n",
       "      <td>18821.520</td>\n",
       "      <td>180000.0</td>\n",
       "      <td>191880.0</td>\n",
       "      <td>0.188357</td>\n",
       "      <td>0.188357</td>\n",
       "      <td>0.773503</td>\n",
       "      <td>Approved</td>\n",
       "      <td>XAP</td>\n",
       "      <td>Repeater</td>\n",
       "      <td>Cash</td>\n",
       "      <td>XNA</td>\n",
       "      <td>low_normal</td>\n",
       "    </tr>\n",
       "    <tr>\n",
       "      <th>1670213</th>\n",
       "      <td>Cash loans</td>\n",
       "      <td>16431.300</td>\n",
       "      <td>360000.0</td>\n",
       "      <td>360000.0</td>\n",
       "      <td>0.188357</td>\n",
       "      <td>0.188357</td>\n",
       "      <td>0.773503</td>\n",
       "      <td>Approved</td>\n",
       "      <td>XAP</td>\n",
       "      <td>Repeater</td>\n",
       "      <td>Cash</td>\n",
       "      <td>XNA</td>\n",
       "      <td>middle</td>\n",
       "    </tr>\n",
       "  </tbody>\n",
       "</table>\n",
       "<p>1670214 rows × 13 columns</p>\n",
       "</div>"
      ],
      "text/plain": [
       "        NAME_CONTRACT_TYPE  AMT_ANNUITY  AMT_APPLICATION  AMT_CREDIT  \\\n",
       "0           Consumer loans     1730.430          17145.0     17145.0   \n",
       "1               Cash loans    25188.615         607500.0    679671.0   \n",
       "2               Cash loans    15060.735         112500.0    136444.5   \n",
       "3               Cash loans    47041.335         450000.0    470790.0   \n",
       "4               Cash loans    31924.395         337500.0    404055.0   \n",
       "...                    ...          ...              ...         ...   \n",
       "1670209     Consumer loans    14704.290         267295.5    311400.0   \n",
       "1670210     Consumer loans     6622.020          87750.0     64291.5   \n",
       "1670211     Consumer loans    11520.855         105237.0    102523.5   \n",
       "1670212         Cash loans    18821.520         180000.0    191880.0   \n",
       "1670213         Cash loans    16431.300         360000.0    360000.0   \n",
       "\n",
       "         RATE_DOWN_PAYMENT  RATE_INTEREST_PRIMARY  RATE_INTEREST_PRIVILEGED  \\\n",
       "0                 0.000000               0.182832                  0.867336   \n",
       "1                 0.188357               0.188357                  0.773503   \n",
       "2                 0.188357               0.188357                  0.773503   \n",
       "3                 0.188357               0.188357                  0.773503   \n",
       "4                 0.188357               0.188357                  0.773503   \n",
       "...                    ...                    ...                       ...   \n",
       "1670209           0.000000               0.188357                  0.773503   \n",
       "1670210           0.340554               0.188357                  0.773503   \n",
       "1670211           0.101401               0.188357                  0.773503   \n",
       "1670212           0.188357               0.188357                  0.773503   \n",
       "1670213           0.188357               0.188357                  0.773503   \n",
       "\n",
       "        NAME_CONTRACT_STATUS CODE_REJECT_REASON NAME_CLIENT_TYPE  \\\n",
       "0                   Approved                XAP         Repeater   \n",
       "1                   Approved                XAP         Repeater   \n",
       "2                   Approved                XAP         Repeater   \n",
       "3                   Approved                XAP         Repeater   \n",
       "4                    Refused                 HC         Repeater   \n",
       "...                      ...                ...              ...   \n",
       "1670209             Approved                XAP        Refreshed   \n",
       "1670210             Approved                XAP              New   \n",
       "1670211             Approved                XAP         Repeater   \n",
       "1670212             Approved                XAP         Repeater   \n",
       "1670213             Approved                XAP         Repeater   \n",
       "\n",
       "        NAME_PORTFOLIO  NAME_SELLER_INDUSTRY NAME_YIELD_GROUP  \n",
       "0                  POS          Connectivity           middle  \n",
       "1                 Cash                   XNA       low_action  \n",
       "2                 Cash                   XNA             high  \n",
       "3                 Cash                   XNA           middle  \n",
       "4                 Cash                   XNA             high  \n",
       "...                ...                   ...              ...  \n",
       "1670209            POS             Furniture       low_normal  \n",
       "1670210            POS             Furniture           middle  \n",
       "1670211            POS  Consumer electronics       low_normal  \n",
       "1670212           Cash                   XNA       low_normal  \n",
       "1670213           Cash                   XNA           middle  \n",
       "\n",
       "[1670214 rows x 13 columns]"
      ]
     },
     "execution_count": 38,
     "metadata": {},
     "output_type": "execute_result"
    }
   ],
   "source": [
    "previous_df_rate_3 = previous_df_rate_2.fillna({'RATE_INTEREST_PRIVILEGED':0.7735025434991628})\n",
    "previous_df_rate_3"
   ]
  },
  {
   "cell_type": "code",
   "execution_count": 39,
   "metadata": {},
   "outputs": [
    {
     "data": {
      "text/plain": [
       "0"
      ]
     },
     "execution_count": 39,
     "metadata": {},
     "output_type": "execute_result"
    }
   ],
   "source": [
    "previous_df_rate_3['RATE_INTEREST_PRIVILEGED'].isnull().sum()"
   ]
  },
  {
   "cell_type": "code",
   "execution_count": 40,
   "metadata": {},
   "outputs": [
    {
     "data": {
      "text/plain": [
       "0"
      ]
     },
     "execution_count": 40,
     "metadata": {},
     "output_type": "execute_result"
    }
   ],
   "source": [
    "previous_df_rate_3['RATE_DOWN_PAYMENT'].isnull().sum()"
   ]
  },
  {
   "cell_type": "code",
   "execution_count": 41,
   "metadata": {},
   "outputs": [
    {
     "data": {
      "text/plain": [
       "<seaborn.axisgrid.PairGrid at 0x7fd656c63d60>"
      ]
     },
     "execution_count": 41,
     "metadata": {},
     "output_type": "execute_result"
    },
    {
     "data": {
      "image/png": "[encoded data removed]",
      "text/plain": [
       "<Figure size 540x540 with 12 Axes>"
      ]
     },
     "metadata": {
      "needs_background": "light"
     },
     "output_type": "display_data"
    }
   ],
   "source": [
    "sns.pairplot(previous_df_rate_3,vars=[\"RATE_DOWN_PAYMENT\",\"RATE_INTEREST_PRIMARY\",\"RATE_INTEREST_PRIVILEGED\"])"
   ]
  },
  {
   "cell_type": "markdown",
   "metadata": {},
   "source": [
    " * rate of interest by banks and the income of the client are one of the important factors that infuluence the approval , cancelation and refusal of loan , there by checking it and correlating all the rate of interest variables to gain the insights"
   ]
  },
  {
   "cell_type": "code",
   "execution_count": 42,
   "metadata": {},
   "outputs": [
    {
     "data": {
      "text/html": [
       "<div>\n",
       "<style scoped>\n",
       "    .dataframe tbody tr th:only-of-type {\n",
       "        vertical-align: middle;\n",
       "    }\n",
       "\n",
       "    .dataframe tbody tr th {\n",
       "        vertical-align: top;\n",
       "    }\n",
       "\n",
       "    .dataframe thead th {\n",
       "        text-align: right;\n",
       "    }\n",
       "</style>\n",
       "<table border=\"1\" class=\"dataframe\">\n",
       "  <thead>\n",
       "    <tr style=\"text-align: right;\">\n",
       "      <th></th>\n",
       "      <th>NAME_CONTRACT_TYPE</th>\n",
       "      <th>AMT_ANNUITY</th>\n",
       "      <th>AMT_APPLICATION</th>\n",
       "      <th>AMT_CREDIT</th>\n",
       "      <th>RATE_DOWN_PAYMENT</th>\n",
       "      <th>RATE_INTEREST_PRIMARY</th>\n",
       "      <th>RATE_INTEREST_PRIVILEGED</th>\n",
       "      <th>NAME_CONTRACT_STATUS</th>\n",
       "      <th>CODE_REJECT_REASON</th>\n",
       "      <th>NAME_CLIENT_TYPE</th>\n",
       "      <th>NAME_PORTFOLIO</th>\n",
       "      <th>NAME_SELLER_INDUSTRY</th>\n",
       "      <th>NAME_YIELD_GROUP</th>\n",
       "    </tr>\n",
       "  </thead>\n",
       "  <tbody>\n",
       "    <tr>\n",
       "      <th>0</th>\n",
       "      <td>Consumer loans</td>\n",
       "      <td>1730.430</td>\n",
       "      <td>17145.0</td>\n",
       "      <td>17145.0</td>\n",
       "      <td>0.000000</td>\n",
       "      <td>0.182832</td>\n",
       "      <td>0.867336</td>\n",
       "      <td>Approved</td>\n",
       "      <td>XAP</td>\n",
       "      <td>Repeater</td>\n",
       "      <td>POS</td>\n",
       "      <td>Connectivity</td>\n",
       "      <td>middle</td>\n",
       "    </tr>\n",
       "    <tr>\n",
       "      <th>1</th>\n",
       "      <td>Cash loans</td>\n",
       "      <td>25188.615</td>\n",
       "      <td>607500.0</td>\n",
       "      <td>679671.0</td>\n",
       "      <td>0.188357</td>\n",
       "      <td>0.188357</td>\n",
       "      <td>0.773503</td>\n",
       "      <td>Approved</td>\n",
       "      <td>XAP</td>\n",
       "      <td>Repeater</td>\n",
       "      <td>Cash</td>\n",
       "      <td>XNA</td>\n",
       "      <td>low_action</td>\n",
       "    </tr>\n",
       "    <tr>\n",
       "      <th>2</th>\n",
       "      <td>Cash loans</td>\n",
       "      <td>15060.735</td>\n",
       "      <td>112500.0</td>\n",
       "      <td>136444.5</td>\n",
       "      <td>0.188357</td>\n",
       "      <td>0.188357</td>\n",
       "      <td>0.773503</td>\n",
       "      <td>Approved</td>\n",
       "      <td>XAP</td>\n",
       "      <td>Repeater</td>\n",
       "      <td>Cash</td>\n",
       "      <td>XNA</td>\n",
       "      <td>high</td>\n",
       "    </tr>\n",
       "    <tr>\n",
       "      <th>3</th>\n",
       "      <td>Cash loans</td>\n",
       "      <td>47041.335</td>\n",
       "      <td>450000.0</td>\n",
       "      <td>470790.0</td>\n",
       "      <td>0.188357</td>\n",
       "      <td>0.188357</td>\n",
       "      <td>0.773503</td>\n",
       "      <td>Approved</td>\n",
       "      <td>XAP</td>\n",
       "      <td>Repeater</td>\n",
       "      <td>Cash</td>\n",
       "      <td>XNA</td>\n",
       "      <td>middle</td>\n",
       "    </tr>\n",
       "    <tr>\n",
       "      <th>4</th>\n",
       "      <td>Cash loans</td>\n",
       "      <td>31924.395</td>\n",
       "      <td>337500.0</td>\n",
       "      <td>404055.0</td>\n",
       "      <td>0.188357</td>\n",
       "      <td>0.188357</td>\n",
       "      <td>0.773503</td>\n",
       "      <td>Refused</td>\n",
       "      <td>HC</td>\n",
       "      <td>Repeater</td>\n",
       "      <td>Cash</td>\n",
       "      <td>XNA</td>\n",
       "      <td>high</td>\n",
       "    </tr>\n",
       "    <tr>\n",
       "      <th>...</th>\n",
       "      <td>...</td>\n",
       "      <td>...</td>\n",
       "      <td>...</td>\n",
       "      <td>...</td>\n",
       "      <td>...</td>\n",
       "      <td>...</td>\n",
       "      <td>...</td>\n",
       "      <td>...</td>\n",
       "      <td>...</td>\n",
       "      <td>...</td>\n",
       "      <td>...</td>\n",
       "      <td>...</td>\n",
       "      <td>...</td>\n",
       "    </tr>\n",
       "    <tr>\n",
       "      <th>1670209</th>\n",
       "      <td>Consumer loans</td>\n",
       "      <td>14704.290</td>\n",
       "      <td>267295.5</td>\n",
       "      <td>311400.0</td>\n",
       "      <td>0.000000</td>\n",
       "      <td>0.188357</td>\n",
       "      <td>0.773503</td>\n",
       "      <td>Approved</td>\n",
       "      <td>XAP</td>\n",
       "      <td>Refreshed</td>\n",
       "      <td>POS</td>\n",
       "      <td>Furniture</td>\n",
       "      <td>low_normal</td>\n",
       "    </tr>\n",
       "    <tr>\n",
       "      <th>1670210</th>\n",
       "      <td>Consumer loans</td>\n",
       "      <td>6622.020</td>\n",
       "      <td>87750.0</td>\n",
       "      <td>64291.5</td>\n",
       "      <td>0.340554</td>\n",
       "      <td>0.188357</td>\n",
       "      <td>0.773503</td>\n",
       "      <td>Approved</td>\n",
       "      <td>XAP</td>\n",
       "      <td>New</td>\n",
       "      <td>POS</td>\n",
       "      <td>Furniture</td>\n",
       "      <td>middle</td>\n",
       "    </tr>\n",
       "    <tr>\n",
       "      <th>1670211</th>\n",
       "      <td>Consumer loans</td>\n",
       "      <td>11520.855</td>\n",
       "      <td>105237.0</td>\n",
       "      <td>102523.5</td>\n",
       "      <td>0.101401</td>\n",
       "      <td>0.188357</td>\n",
       "      <td>0.773503</td>\n",
       "      <td>Approved</td>\n",
       "      <td>XAP</td>\n",
       "      <td>Repeater</td>\n",
       "      <td>POS</td>\n",
       "      <td>Consumer electronics</td>\n",
       "      <td>low_normal</td>\n",
       "    </tr>\n",
       "    <tr>\n",
       "      <th>1670212</th>\n",
       "      <td>Cash loans</td>\n",
       "      <td>18821.520</td>\n",
       "      <td>180000.0</td>\n",
       "      <td>191880.0</td>\n",
       "      <td>0.188357</td>\n",
       "      <td>0.188357</td>\n",
       "      <td>0.773503</td>\n",
       "      <td>Approved</td>\n",
       "      <td>XAP</td>\n",
       "      <td>Repeater</td>\n",
       "      <td>Cash</td>\n",
       "      <td>XNA</td>\n",
       "      <td>low_normal</td>\n",
       "    </tr>\n",
       "    <tr>\n",
       "      <th>1670213</th>\n",
       "      <td>Cash loans</td>\n",
       "      <td>16431.300</td>\n",
       "      <td>360000.0</td>\n",
       "      <td>360000.0</td>\n",
       "      <td>0.188357</td>\n",
       "      <td>0.188357</td>\n",
       "      <td>0.773503</td>\n",
       "      <td>Approved</td>\n",
       "      <td>XAP</td>\n",
       "      <td>Repeater</td>\n",
       "      <td>Cash</td>\n",
       "      <td>XNA</td>\n",
       "      <td>middle</td>\n",
       "    </tr>\n",
       "  </tbody>\n",
       "</table>\n",
       "<p>1670214 rows × 13 columns</p>\n",
       "</div>"
      ],
      "text/plain": [
       "        NAME_CONTRACT_TYPE  AMT_ANNUITY  AMT_APPLICATION  AMT_CREDIT  \\\n",
       "0           Consumer loans     1730.430          17145.0     17145.0   \n",
       "1               Cash loans    25188.615         607500.0    679671.0   \n",
       "2               Cash loans    15060.735         112500.0    136444.5   \n",
       "3               Cash loans    47041.335         450000.0    470790.0   \n",
       "4               Cash loans    31924.395         337500.0    404055.0   \n",
       "...                    ...          ...              ...         ...   \n",
       "1670209     Consumer loans    14704.290         267295.5    311400.0   \n",
       "1670210     Consumer loans     6622.020          87750.0     64291.5   \n",
       "1670211     Consumer loans    11520.855         105237.0    102523.5   \n",
       "1670212         Cash loans    18821.520         180000.0    191880.0   \n",
       "1670213         Cash loans    16431.300         360000.0    360000.0   \n",
       "\n",
       "         RATE_DOWN_PAYMENT  RATE_INTEREST_PRIMARY  RATE_INTEREST_PRIVILEGED  \\\n",
       "0                 0.000000               0.182832                  0.867336   \n",
       "1                 0.188357               0.188357                  0.773503   \n",
       "2                 0.188357               0.188357                  0.773503   \n",
       "3                 0.188357               0.188357                  0.773503   \n",
       "4                 0.188357               0.188357                  0.773503   \n",
       "...                    ...                    ...                       ...   \n",
       "1670209           0.000000               0.188357                  0.773503   \n",
       "1670210           0.340554               0.188357                  0.773503   \n",
       "1670211           0.101401               0.188357                  0.773503   \n",
       "1670212           0.188357               0.188357                  0.773503   \n",
       "1670213           0.188357               0.188357                  0.773503   \n",
       "\n",
       "        NAME_CONTRACT_STATUS CODE_REJECT_REASON NAME_CLIENT_TYPE  \\\n",
       "0                   Approved                XAP         Repeater   \n",
       "1                   Approved                XAP         Repeater   \n",
       "2                   Approved                XAP         Repeater   \n",
       "3                   Approved                XAP         Repeater   \n",
       "4                    Refused                 HC         Repeater   \n",
       "...                      ...                ...              ...   \n",
       "1670209             Approved                XAP        Refreshed   \n",
       "1670210             Approved                XAP              New   \n",
       "1670211             Approved                XAP         Repeater   \n",
       "1670212             Approved                XAP         Repeater   \n",
       "1670213             Approved                XAP         Repeater   \n",
       "\n",
       "        NAME_PORTFOLIO  NAME_SELLER_INDUSTRY NAME_YIELD_GROUP  \n",
       "0                  POS          Connectivity           middle  \n",
       "1                 Cash                   XNA       low_action  \n",
       "2                 Cash                   XNA             high  \n",
       "3                 Cash                   XNA           middle  \n",
       "4                 Cash                   XNA             high  \n",
       "...                ...                   ...              ...  \n",
       "1670209            POS             Furniture       low_normal  \n",
       "1670210            POS             Furniture           middle  \n",
       "1670211            POS  Consumer electronics       low_normal  \n",
       "1670212           Cash                   XNA       low_normal  \n",
       "1670213           Cash                   XNA           middle  \n",
       "\n",
       "[1670214 rows x 13 columns]"
      ]
     },
     "execution_count": 42,
     "metadata": {},
     "output_type": "execute_result"
    }
   ],
   "source": [
    "previous_df_rate_3\n",
    "#checking for the null values in 3 columns :AMT_ANNUITY,AMT_APPLICATION, AMT_CREDIT  and replacing the null values with mean values"
   ]
  },
  {
   "cell_type": "code",
   "execution_count": 43,
   "metadata": {},
   "outputs": [
    {
     "data": {
      "text/plain": [
       "dtype('float64')"
      ]
     },
     "execution_count": 43,
     "metadata": {},
     "output_type": "execute_result"
    }
   ],
   "source": [
    "previous_df_rate_3[\"AMT_ANNUITY\"].dtypes"
   ]
  },
  {
   "cell_type": "code",
   "execution_count": 44,
   "metadata": {},
   "outputs": [
    {
     "data": {
      "text/plain": [
       "(1670214,)"
      ]
     },
     "execution_count": 44,
     "metadata": {},
     "output_type": "execute_result"
    }
   ],
   "source": [
    "previous_df_rate_3[\"AMT_ANNUITY\"].shape"
   ]
  },
  {
   "cell_type": "code",
   "execution_count": 45,
   "metadata": {},
   "outputs": [
    {
     "data": {
      "text/plain": [
       "count    1.297979e+06\n",
       "mean     1.595512e+04\n",
       "std      1.478214e+04\n",
       "min      0.000000e+00\n",
       "25%      6.321780e+03\n",
       "50%      1.125000e+04\n",
       "75%      2.065842e+04\n",
       "max      4.180581e+05\n",
       "Name: AMT_ANNUITY, dtype: float64"
      ]
     },
     "execution_count": 45,
     "metadata": {},
     "output_type": "execute_result"
    }
   ],
   "source": [
    "previous_df_rate_3[\"AMT_ANNUITY\"].describe()"
   ]
  },
  {
   "cell_type": "code",
   "execution_count": 46,
   "metadata": {},
   "outputs": [
    {
     "data": {
      "text/plain": [
       "15955.120659450406"
      ]
     },
     "execution_count": 46,
     "metadata": {},
     "output_type": "execute_result"
    }
   ],
   "source": [
    "previous_df_rate_3[\"AMT_ANNUITY\"].mean()"
   ]
  },
  {
   "cell_type": "code",
   "execution_count": 47,
   "metadata": {},
   "outputs": [
    {
     "data": {
      "text/plain": [
       "0    2250.0\n",
       "dtype: float64"
      ]
     },
     "execution_count": 47,
     "metadata": {},
     "output_type": "execute_result"
    }
   ],
   "source": [
    "previous_df_rate_3[\"AMT_ANNUITY\"].mode()"
   ]
  },
  {
   "cell_type": "code",
   "execution_count": 48,
   "metadata": {},
   "outputs": [
    {
     "data": {
      "text/plain": [
       "11250.0"
      ]
     },
     "execution_count": 48,
     "metadata": {},
     "output_type": "execute_result"
    }
   ],
   "source": [
    "previous_df_rate_3[\"AMT_ANNUITY\"].median()"
   ]
  },
  {
   "cell_type": "code",
   "execution_count": 49,
   "metadata": {},
   "outputs": [
    {
     "data": {
      "text/plain": [
       "372235"
      ]
     },
     "execution_count": 49,
     "metadata": {},
     "output_type": "execute_result"
    }
   ],
   "source": [
    "previous_df_rate_3[\"AMT_ANNUITY\"].isnull().sum()"
   ]
  },
  {
   "cell_type": "code",
   "execution_count": 50,
   "metadata": {},
   "outputs": [
    {
     "data": {
      "text/plain": [
       "2250.000     31865\n",
       "11250.000    13974\n",
       "6750.000     13442\n",
       "9000.000     12496\n",
       "22500.000    11903\n",
       "             ...  \n",
       "30073.860        1\n",
       "41845.365        1\n",
       "36622.620        1\n",
       "41864.760        1\n",
       "63715.905        1\n",
       "Name: AMT_ANNUITY, Length: 357959, dtype: int64"
      ]
     },
     "execution_count": 50,
     "metadata": {},
     "output_type": "execute_result"
    }
   ],
   "source": [
    "previous_df_rate_3[\"AMT_ANNUITY\"].value_counts()"
   ]
  },
  {
   "cell_type": "code",
   "execution_count": 51,
   "metadata": {},
   "outputs": [],
   "source": [
    "previous_df_new=previous_df_rate_3.fillna({'AMT_ANNUITY':15955.120659450406})"
   ]
  },
  {
   "cell_type": "code",
   "execution_count": 52,
   "metadata": {},
   "outputs": [
    {
     "data": {
      "text/plain": [
       "0"
      ]
     },
     "execution_count": 52,
     "metadata": {},
     "output_type": "execute_result"
    }
   ],
   "source": [
    "previous_df_new['AMT_ANNUITY'].isnull().sum()"
   ]
  },
  {
   "cell_type": "code",
   "execution_count": 53,
   "metadata": {},
   "outputs": [
    {
     "data": {
      "text/plain": [
       "0"
      ]
     },
     "execution_count": 53,
     "metadata": {},
     "output_type": "execute_result"
    }
   ],
   "source": [
    "previous_df_new['AMT_APPLICATION'].isnull().sum()"
   ]
  },
  {
   "cell_type": "code",
   "execution_count": 54,
   "metadata": {},
   "outputs": [
    {
     "data": {
      "text/plain": [
       "1"
      ]
     },
     "execution_count": 54,
     "metadata": {},
     "output_type": "execute_result"
    }
   ],
   "source": [
    "previous_df_new['AMT_CREDIT'].isnull().sum()"
   ]
  },
  {
   "cell_type": "code",
   "execution_count": 55,
   "metadata": {},
   "outputs": [
    {
     "data": {
      "text/plain": [
       "196114.02121797804"
      ]
     },
     "execution_count": 55,
     "metadata": {},
     "output_type": "execute_result"
    }
   ],
   "source": [
    "previous_df_new['AMT_CREDIT'].mean()"
   ]
  },
  {
   "cell_type": "code",
   "execution_count": 56,
   "metadata": {},
   "outputs": [
    {
     "data": {
      "text/html": [
       "<div>\n",
       "<style scoped>\n",
       "    .dataframe tbody tr th:only-of-type {\n",
       "        vertical-align: middle;\n",
       "    }\n",
       "\n",
       "    .dataframe tbody tr th {\n",
       "        vertical-align: top;\n",
       "    }\n",
       "\n",
       "    .dataframe thead th {\n",
       "        text-align: right;\n",
       "    }\n",
       "</style>\n",
       "<table border=\"1\" class=\"dataframe\">\n",
       "  <thead>\n",
       "    <tr style=\"text-align: right;\">\n",
       "      <th></th>\n",
       "      <th>NAME_CONTRACT_TYPE</th>\n",
       "      <th>AMT_ANNUITY</th>\n",
       "      <th>AMT_APPLICATION</th>\n",
       "      <th>AMT_CREDIT</th>\n",
       "      <th>RATE_DOWN_PAYMENT</th>\n",
       "      <th>RATE_INTEREST_PRIMARY</th>\n",
       "      <th>RATE_INTEREST_PRIVILEGED</th>\n",
       "      <th>NAME_CONTRACT_STATUS</th>\n",
       "      <th>CODE_REJECT_REASON</th>\n",
       "      <th>NAME_CLIENT_TYPE</th>\n",
       "      <th>NAME_PORTFOLIO</th>\n",
       "      <th>NAME_SELLER_INDUSTRY</th>\n",
       "      <th>NAME_YIELD_GROUP</th>\n",
       "    </tr>\n",
       "  </thead>\n",
       "  <tbody>\n",
       "    <tr>\n",
       "      <th>0</th>\n",
       "      <td>Consumer loans</td>\n",
       "      <td>1730.430</td>\n",
       "      <td>17145.0</td>\n",
       "      <td>17145.0</td>\n",
       "      <td>0.000000</td>\n",
       "      <td>0.182832</td>\n",
       "      <td>0.867336</td>\n",
       "      <td>Approved</td>\n",
       "      <td>XAP</td>\n",
       "      <td>Repeater</td>\n",
       "      <td>POS</td>\n",
       "      <td>Connectivity</td>\n",
       "      <td>middle</td>\n",
       "    </tr>\n",
       "    <tr>\n",
       "      <th>1</th>\n",
       "      <td>Cash loans</td>\n",
       "      <td>25188.615</td>\n",
       "      <td>607500.0</td>\n",
       "      <td>679671.0</td>\n",
       "      <td>0.188357</td>\n",
       "      <td>0.188357</td>\n",
       "      <td>0.773503</td>\n",
       "      <td>Approved</td>\n",
       "      <td>XAP</td>\n",
       "      <td>Repeater</td>\n",
       "      <td>Cash</td>\n",
       "      <td>XNA</td>\n",
       "      <td>low_action</td>\n",
       "    </tr>\n",
       "    <tr>\n",
       "      <th>2</th>\n",
       "      <td>Cash loans</td>\n",
       "      <td>15060.735</td>\n",
       "      <td>112500.0</td>\n",
       "      <td>136444.5</td>\n",
       "      <td>0.188357</td>\n",
       "      <td>0.188357</td>\n",
       "      <td>0.773503</td>\n",
       "      <td>Approved</td>\n",
       "      <td>XAP</td>\n",
       "      <td>Repeater</td>\n",
       "      <td>Cash</td>\n",
       "      <td>XNA</td>\n",
       "      <td>high</td>\n",
       "    </tr>\n",
       "    <tr>\n",
       "      <th>3</th>\n",
       "      <td>Cash loans</td>\n",
       "      <td>47041.335</td>\n",
       "      <td>450000.0</td>\n",
       "      <td>470790.0</td>\n",
       "      <td>0.188357</td>\n",
       "      <td>0.188357</td>\n",
       "      <td>0.773503</td>\n",
       "      <td>Approved</td>\n",
       "      <td>XAP</td>\n",
       "      <td>Repeater</td>\n",
       "      <td>Cash</td>\n",
       "      <td>XNA</td>\n",
       "      <td>middle</td>\n",
       "    </tr>\n",
       "    <tr>\n",
       "      <th>4</th>\n",
       "      <td>Cash loans</td>\n",
       "      <td>31924.395</td>\n",
       "      <td>337500.0</td>\n",
       "      <td>404055.0</td>\n",
       "      <td>0.188357</td>\n",
       "      <td>0.188357</td>\n",
       "      <td>0.773503</td>\n",
       "      <td>Refused</td>\n",
       "      <td>HC</td>\n",
       "      <td>Repeater</td>\n",
       "      <td>Cash</td>\n",
       "      <td>XNA</td>\n",
       "      <td>high</td>\n",
       "    </tr>\n",
       "    <tr>\n",
       "      <th>...</th>\n",
       "      <td>...</td>\n",
       "      <td>...</td>\n",
       "      <td>...</td>\n",
       "      <td>...</td>\n",
       "      <td>...</td>\n",
       "      <td>...</td>\n",
       "      <td>...</td>\n",
       "      <td>...</td>\n",
       "      <td>...</td>\n",
       "      <td>...</td>\n",
       "      <td>...</td>\n",
       "      <td>...</td>\n",
       "      <td>...</td>\n",
       "    </tr>\n",
       "    <tr>\n",
       "      <th>1670209</th>\n",
       "      <td>Consumer loans</td>\n",
       "      <td>14704.290</td>\n",
       "      <td>267295.5</td>\n",
       "      <td>311400.0</td>\n",
       "      <td>0.000000</td>\n",
       "      <td>0.188357</td>\n",
       "      <td>0.773503</td>\n",
       "      <td>Approved</td>\n",
       "      <td>XAP</td>\n",
       "      <td>Refreshed</td>\n",
       "      <td>POS</td>\n",
       "      <td>Furniture</td>\n",
       "      <td>low_normal</td>\n",
       "    </tr>\n",
       "    <tr>\n",
       "      <th>1670210</th>\n",
       "      <td>Consumer loans</td>\n",
       "      <td>6622.020</td>\n",
       "      <td>87750.0</td>\n",
       "      <td>64291.5</td>\n",
       "      <td>0.340554</td>\n",
       "      <td>0.188357</td>\n",
       "      <td>0.773503</td>\n",
       "      <td>Approved</td>\n",
       "      <td>XAP</td>\n",
       "      <td>New</td>\n",
       "      <td>POS</td>\n",
       "      <td>Furniture</td>\n",
       "      <td>middle</td>\n",
       "    </tr>\n",
       "    <tr>\n",
       "      <th>1670211</th>\n",
       "      <td>Consumer loans</td>\n",
       "      <td>11520.855</td>\n",
       "      <td>105237.0</td>\n",
       "      <td>102523.5</td>\n",
       "      <td>0.101401</td>\n",
       "      <td>0.188357</td>\n",
       "      <td>0.773503</td>\n",
       "      <td>Approved</td>\n",
       "      <td>XAP</td>\n",
       "      <td>Repeater</td>\n",
       "      <td>POS</td>\n",
       "      <td>Consumer electronics</td>\n",
       "      <td>low_normal</td>\n",
       "    </tr>\n",
       "    <tr>\n",
       "      <th>1670212</th>\n",
       "      <td>Cash loans</td>\n",
       "      <td>18821.520</td>\n",
       "      <td>180000.0</td>\n",
       "      <td>191880.0</td>\n",
       "      <td>0.188357</td>\n",
       "      <td>0.188357</td>\n",
       "      <td>0.773503</td>\n",
       "      <td>Approved</td>\n",
       "      <td>XAP</td>\n",
       "      <td>Repeater</td>\n",
       "      <td>Cash</td>\n",
       "      <td>XNA</td>\n",
       "      <td>low_normal</td>\n",
       "    </tr>\n",
       "    <tr>\n",
       "      <th>1670213</th>\n",
       "      <td>Cash loans</td>\n",
       "      <td>16431.300</td>\n",
       "      <td>360000.0</td>\n",
       "      <td>360000.0</td>\n",
       "      <td>0.188357</td>\n",
       "      <td>0.188357</td>\n",
       "      <td>0.773503</td>\n",
       "      <td>Approved</td>\n",
       "      <td>XAP</td>\n",
       "      <td>Repeater</td>\n",
       "      <td>Cash</td>\n",
       "      <td>XNA</td>\n",
       "      <td>middle</td>\n",
       "    </tr>\n",
       "  </tbody>\n",
       "</table>\n",
       "<p>1670214 rows × 13 columns</p>\n",
       "</div>"
      ],
      "text/plain": [
       "        NAME_CONTRACT_TYPE  AMT_ANNUITY  AMT_APPLICATION  AMT_CREDIT  \\\n",
       "0           Consumer loans     1730.430          17145.0     17145.0   \n",
       "1               Cash loans    25188.615         607500.0    679671.0   \n",
       "2               Cash loans    15060.735         112500.0    136444.5   \n",
       "3               Cash loans    47041.335         450000.0    470790.0   \n",
       "4               Cash loans    31924.395         337500.0    404055.0   \n",
       "...                    ...          ...              ...         ...   \n",
       "1670209     Consumer loans    14704.290         267295.5    311400.0   \n",
       "1670210     Consumer loans     6622.020          87750.0     64291.5   \n",
       "1670211     Consumer loans    11520.855         105237.0    102523.5   \n",
       "1670212         Cash loans    18821.520         180000.0    191880.0   \n",
       "1670213         Cash loans    16431.300         360000.0    360000.0   \n",
       "\n",
       "         RATE_DOWN_PAYMENT  RATE_INTEREST_PRIMARY  RATE_INTEREST_PRIVILEGED  \\\n",
       "0                 0.000000               0.182832                  0.867336   \n",
       "1                 0.188357               0.188357                  0.773503   \n",
       "2                 0.188357               0.188357                  0.773503   \n",
       "3                 0.188357               0.188357                  0.773503   \n",
       "4                 0.188357               0.188357                  0.773503   \n",
       "...                    ...                    ...                       ...   \n",
       "1670209           0.000000               0.188357                  0.773503   \n",
       "1670210           0.340554               0.188357                  0.773503   \n",
       "1670211           0.101401               0.188357                  0.773503   \n",
       "1670212           0.188357               0.188357                  0.773503   \n",
       "1670213           0.188357               0.188357                  0.773503   \n",
       "\n",
       "        NAME_CONTRACT_STATUS CODE_REJECT_REASON NAME_CLIENT_TYPE  \\\n",
       "0                   Approved                XAP         Repeater   \n",
       "1                   Approved                XAP         Repeater   \n",
       "2                   Approved                XAP         Repeater   \n",
       "3                   Approved                XAP         Repeater   \n",
       "4                    Refused                 HC         Repeater   \n",
       "...                      ...                ...              ...   \n",
       "1670209             Approved                XAP        Refreshed   \n",
       "1670210             Approved                XAP              New   \n",
       "1670211             Approved                XAP         Repeater   \n",
       "1670212             Approved                XAP         Repeater   \n",
       "1670213             Approved                XAP         Repeater   \n",
       "\n",
       "        NAME_PORTFOLIO  NAME_SELLER_INDUSTRY NAME_YIELD_GROUP  \n",
       "0                  POS          Connectivity           middle  \n",
       "1                 Cash                   XNA       low_action  \n",
       "2                 Cash                   XNA             high  \n",
       "3                 Cash                   XNA           middle  \n",
       "4                 Cash                   XNA             high  \n",
       "...                ...                   ...              ...  \n",
       "1670209            POS             Furniture       low_normal  \n",
       "1670210            POS             Furniture           middle  \n",
       "1670211            POS  Consumer electronics       low_normal  \n",
       "1670212           Cash                   XNA       low_normal  \n",
       "1670213           Cash                   XNA           middle  \n",
       "\n",
       "[1670214 rows x 13 columns]"
      ]
     },
     "execution_count": 56,
     "metadata": {},
     "output_type": "execute_result"
    }
   ],
   "source": [
    "previous_df_new_1=previous_df_new.fillna({'AMT_CREDIT':196114.02121797804})\n",
    "previous_df_new_1"
   ]
  },
  {
   "cell_type": "markdown",
   "metadata": {},
   "source": [
    "# NUMERICAL UNIVERIATE ANALYSIS"
   ]
  },
  {
   "cell_type": "code",
   "execution_count": 57,
   "metadata": {},
   "outputs": [
    {
     "data": {
      "image/png": "[encoded data removed]",
      "text/plain": [
       "<Figure size 432x288 with 1 Axes>"
      ]
     },
     "metadata": {
      "needs_background": "light"
     },
     "output_type": "display_data"
    }
   ],
   "source": [
    "plt.boxplot(previous_df_new_1.AMT_ANNUITY)\n",
    "plt.show()"
   ]
  },
  {
   "cell_type": "code",
   "execution_count": 58,
   "metadata": {},
   "outputs": [
    {
     "data": {
      "image/png": "[encoded data removed]",
      "text/plain": [
       "<Figure size 432x288 with 1 Axes>"
      ]
     },
     "metadata": {
      "needs_background": "light"
     },
     "output_type": "display_data"
    }
   ],
   "source": [
    "plt.boxplot(previous_df_new_1.AMT_APPLICATION)\n",
    "plt.show()"
   ]
  },
  {
   "cell_type": "code",
   "execution_count": 59,
   "metadata": {},
   "outputs": [
    {
     "data": {
      "image/png": "[encoded data removed]",
      "text/plain": [
       "<Figure size 432x288 with 1 Axes>"
      ]
     },
     "metadata": {
      "needs_background": "light"
     },
     "output_type": "display_data"
    }
   ],
   "source": [
    "plt.boxplot(previous_df_new_1.AMT_CREDIT)\n",
    "plt.show()"
   ]
  },
  {
   "cell_type": "markdown",
   "metadata": {},
   "source": [
    "* so the outliers are present to give us biased understanding of the variables "
   ]
  },
  {
   "cell_type": "code",
   "execution_count": 60,
   "metadata": {},
   "outputs": [
    {
     "data": {
      "image/png": "[encoded data removed]",
      "text/plain": [
       "<Figure size 432x288 with 1 Axes>"
      ]
     },
     "metadata": {
      "needs_background": "light"
     },
     "output_type": "display_data"
    }
   ],
   "source": [
    "# FILTER CONDITION \n",
    "previous_df_new_1[previous_df_new_1.AMT_ANNUITY>200000].AMT_ANNUITY.plot.box()\n",
    "plt.show()"
   ]
  },
  {
   "cell_type": "markdown",
   "metadata": {},
   "source": [
    "* so for the bank anyways the target clients will be the clients with annual earnings of more than 100000 or 200000"
   ]
  },
  {
   "cell_type": "code",
   "execution_count": 61,
   "metadata": {},
   "outputs": [
    {
     "data": {
      "image/png": "[encoded data removed]",
      "text/plain": [
       "<Figure size 432x288 with 1 Axes>"
      ]
     },
     "metadata": {
      "needs_background": "light"
     },
     "output_type": "display_data"
    }
   ],
   "source": [
    "previous_df_new_1[previous_df_new_1.AMT_APPLICATION>1500000].AMT_APPLICATION.plot.box()\n",
    "plt.show()"
   ]
  },
  {
   "cell_type": "markdown",
   "metadata": {},
   "source": [
    "* from this we can inferr that the amt application by the client is three times more than their salaries "
   ]
  },
  {
   "cell_type": "markdown",
   "metadata": {},
   "source": [
    "#  CATEGORICAL UNIVERIATE ANALYSIS"
   ]
  },
  {
   "cell_type": "code",
   "execution_count": 62,
   "metadata": {},
   "outputs": [
    {
     "data": {
      "image/png": "[encoded data removed]",
      "text/plain": [
       "<Figure size 432x288 with 1 Axes>"
      ]
     },
     "metadata": {
      "needs_background": "light"
     },
     "output_type": "display_data"
    }
   ],
   "source": [
    "\n",
    "previous_df_new_1[\"NAME_CONTRACT_TYPE\"].value_counts(normalize=True).plot.barh()\n",
    "plt.show()"
   ]
  },
  {
   "cell_type": "markdown",
   "metadata": {},
   "source": [
    "* the graph states that \n",
    "* revolving loans are 0.11%, consumer loans are 0.45% and cash loans are 0.49% \n",
    "* from this we can conclude that many clients applied for cash loan"
   ]
  },
  {
   "cell_type": "code",
   "execution_count": 63,
   "metadata": {},
   "outputs": [
    {
     "data": {
      "image/png": "[encoded data removed]",
      "text/plain": [
       "<Figure size 432x288 with 1 Axes>"
      ]
     },
     "metadata": {
      "needs_background": "light"
     },
     "output_type": "display_data"
    }
   ],
   "source": [
    "previous_df_new_1[\"NAME_CONTRACT_STATUS\"].value_counts(normalize=True).plot.barh()\n",
    "plt.show()"
   ]
  },
  {
   "cell_type": "markdown",
   "metadata": {},
   "source": [
    "* the graph states that \n",
    "* applications refused are 0.17%,applications canceled are 0.19%,unused offer are 0.02%,where as application approved are 0.62%\n",
    "* from this we can conclude that most of the applications were approved ."
   ]
  },
  {
   "cell_type": "code",
   "execution_count": 64,
   "metadata": {},
   "outputs": [
    {
     "data": {
      "image/png": "[encoded data removed]",
      "text/plain": [
       "<Figure size 432x288 with 1 Axes>"
      ]
     },
     "metadata": {
      "needs_background": "light"
     },
     "output_type": "display_data"
    }
   ],
   "source": [
    "previous_df_new_1[\"CODE_REJECT_REASON\"].value_counts(normalize=True).plot.barh()\n",
    "plt.show()"
   ]
  },
  {
   "cell_type": "markdown",
   "metadata": {},
   "source": [
    "* the graph states the reasons for application rejection\n",
    "* system =0%,verification=0%,xna=0%,scofr=0.01%,client=0.02%,limit=0.04%,hc=0.1%,xap=0.8%\n",
    "* from this we can conclude that maximum no. of applications were rejected due to xap."
   ]
  },
  {
   "cell_type": "code",
   "execution_count": 65,
   "metadata": {},
   "outputs": [
    {
     "data": {
      "image/png": "[encoded data removed]",
      "text/plain": [
       "<Figure size 432x288 with 1 Axes>"
      ]
     },
     "metadata": {
      "needs_background": "light"
     },
     "output_type": "display_data"
    }
   ],
   "source": [
    "previous_df_new_1[\"NAME_CLIENT_TYPE\"].value_counts(normalize=True).plot.barh()\n",
    "plt.show()\n"
   ]
  },
  {
   "cell_type": "markdown",
   "metadata": {},
   "source": [
    "* the graph states the client types \n",
    "* xan=0%,refreshed =0.08 %,new=0.18%,repeater=0.74%\n",
    "* from this we can conclude that old client have applied for loan again"
   ]
  },
  {
   "cell_type": "code",
   "execution_count": 66,
   "metadata": {},
   "outputs": [
    {
     "data": {
      "image/png": "[encoded data removed]",
      "text/plain": [
       "<Figure size 432x288 with 1 Axes>"
      ]
     },
     "metadata": {
      "needs_background": "light"
     },
     "output_type": "display_data"
    }
   ],
   "source": [
    "previous_df_new_1[\"NAME_PORTFOLIO\"].value_counts(normalize=True).plot.barh()\n",
    "plt.show()\n",
    "\n"
   ]
  },
  {
   "cell_type": "markdown",
   "metadata": {},
   "source": [
    "* graph states the reson for applying the loan \n",
    "* cars =0%,cards=0.8%,xna=0.22%,cash=0.27%,pos=0.42%\n",
    "* generally people are filling the application for cash loan "
   ]
  },
  {
   "cell_type": "code",
   "execution_count": 67,
   "metadata": {},
   "outputs": [
    {
     "data": {
      "image/png": "[encoded data removed]",
      "text/plain": [
       "<Figure size 432x288 with 1 Axes>"
      ]
     },
     "metadata": {
      "needs_background": "light"
     },
     "output_type": "display_data"
    }
   ],
   "source": [
    "previous_df_new_1[\"NAME_SELLER_INDUSTRY\"].value_counts(normalize=True).plot.barh()\n",
    "plt.show()\n",
    "\n"
   ]
  },
  {
   "cell_type": "code",
   "execution_count": 68,
   "metadata": {},
   "outputs": [
    {
     "data": {
      "image/png": "[encoded data removed]",
      "text/plain": [
       "<Figure size 432x288 with 1 Axes>"
      ]
     },
     "metadata": {
      "needs_background": "light"
     },
     "output_type": "display_data"
    }
   ],
   "source": [
    "previous_df_new_1[\"NAME_YIELD_GROUP\"].value_counts(normalize=True).plot.barh()\n",
    "plt.show()\n",
    "\n"
   ]
  },
  {
   "cell_type": "markdown",
   "metadata": {},
   "source": [
    " * the graph states the grouped interest \n",
    " * low action= 0.06%,low normal=0.19%,high=0.22%,middle=0.23%, xna=0.32%\n",
    " * for this we can conclude that unknown clients have maximum rate  "
   ]
  },
  {
   "cell_type": "markdown",
   "metadata": {},
   "source": [
    "# BIVARIATE AND MULTIVATIATE ANALYSIS"
   ]
  },
  {
   "cell_type": "markdown",
   "metadata": {},
   "source": [
    "# NUMERICAL ANALYSIS"
   ]
  },
  {
   "cell_type": "code",
   "execution_count": 69,
   "metadata": {},
   "outputs": [
    {
     "data": {
      "image/png": "[encoded data removed]",
      "text/plain": [
       "<Figure size 540x540 with 12 Axes>"
      ]
     },
     "metadata": {
      "needs_background": "light"
     },
     "output_type": "display_data"
    }
   ],
   "source": [
    "sns.pairplot(previous_df_new_1,vars=[\"AMT_ANNUITY\",\"AMT_APPLICATION\",\"AMT_CREDIT\"])\n",
    "plt.show()"
   ]
  },
  {
   "cell_type": "markdown",
   "metadata": {},
   "source": [
    "* this pair plot shows that people who earn for example 2 lakh applies for the amount 3 -4 times more as a loan \n",
    "* and also client are receiving the amount  for which they have applied .\n",
    "* u can say that credited amount is slightly less than amount applied "
   ]
  },
  {
   "cell_type": "code",
   "execution_count": 70,
   "metadata": {},
   "outputs": [
    {
     "data": {
      "image/png": "[encoded data removed]",
      "text/plain": [
       "<Figure size 432x288 with 1 Axes>"
      ]
     },
     "metadata": {
      "needs_background": "light"
     },
     "output_type": "display_data"
    }
   ],
   "source": [
    "plt.scatter (previous_df_new_1.RATE_INTEREST_PRIMARY,previous_df_new_1.AMT_ANNUITY)\n",
    "plt.show()"
   ]
  },
  {
   "cell_type": "markdown",
   "metadata": {},
   "source": [
    "* almost all the clients of income 0-400000 pay 0.2% primary interest rate \n",
    "* person who earns more than 100000 annually pay a primary interest of 0.2"
   ]
  },
  {
   "cell_type": "code",
   "execution_count": 71,
   "metadata": {},
   "outputs": [
    {
     "data": {
      "image/png": "[encoded data removed]",
      "text/plain": [
       "<Figure size 432x288 with 1 Axes>"
      ]
     },
     "metadata": {
      "needs_background": "light"
     },
     "output_type": "display_data"
    }
   ],
   "source": [
    "plt.scatter (previous_df_new_1.RATE_INTEREST_PRIVILEGED,previous_df_new_1.AMT_ANNUITY)\n",
    "plt.show()"
   ]
  },
  {
   "cell_type": "markdown",
   "metadata": {},
   "source": [
    "* here we can infer that most of the clients of income 0-400000 pay priveleged interest rate of 0.77%\n",
    "*  but the rate of interset privilege by the bank was somewhere between 0.77 i.e the rate of interst will be increasing in nature "
   ]
  },
  {
   "cell_type": "code",
   "execution_count": 72,
   "metadata": {},
   "outputs": [
    {
     "data": {
      "image/png": "[encoded data removed]",
      "text/plain": [
       "<Figure size 432x288 with 1 Axes>"
      ]
     },
     "metadata": {
      "needs_background": "light"
     },
     "output_type": "display_data"
    }
   ],
   "source": [
    "plt.scatter (previous_df_new_1.RATE_DOWN_PAYMENT,previous_df_new_1.AMT_ANNUITY)\n",
    "plt.show()"
   ]
  },
  {
   "cell_type": "markdown",
   "metadata": {},
   "source": [
    "* where as the rate of down payment is varying in all the cases \n",
    "* but the downpayment rate is not specific i.e it may have been due to aprroval on different days and the down payment on different days "
   ]
  },
  {
   "cell_type": "markdown",
   "metadata": {},
   "source": [
    "# NUMERICAL CATEGORICAL ANALYSIS "
   ]
  },
  {
   "cell_type": "code",
   "execution_count": 73,
   "metadata": {},
   "outputs": [
    {
     "data": {
      "image/png": "[encoded data removed]",
      "text/plain": [
       "<Figure size 432x288 with 1 Axes>"
      ]
     },
     "metadata": {
      "needs_background": "light"
     },
     "output_type": "display_data"
    }
   ],
   "source": [
    "plt.scatter (previous_df_new_1.NAME_CONTRACT_TYPE,previous_df_new_1.AMT_ANNUITY,color='cyan')\n",
    "plt.show()"
   ]
  },
  {
   "cell_type": "markdown",
   "metadata": {},
   "source": [
    "* a slight difference can be observed in cash loan and consumer loan for almost all the clients "
   ]
  },
  {
   "cell_type": "code",
   "execution_count": 74,
   "metadata": {},
   "outputs": [
    {
     "data": {
      "image/png": "[encoded data removed]",
      "text/plain": [
       "<Figure size 432x288 with 1 Axes>"
      ]
     },
     "metadata": {
      "needs_background": "light"
     },
     "output_type": "display_data"
    }
   ],
   "source": [
    "plt.scatter (previous_df_new_1.NAME_CONTRACT_TYPE,previous_df_new_1.AMT_APPLICATION,color='cyan')\n",
    "plt.show()"
   ]
  },
  {
   "cell_type": "markdown",
   "metadata": {},
   "source": [
    "* most of the application received by the bank for consumer loans "
   ]
  },
  {
   "cell_type": "code",
   "execution_count": 75,
   "metadata": {},
   "outputs": [
    {
     "data": {
      "image/png": "[encoded data removed]",
      "text/plain": [
       "<Figure size 432x288 with 1 Axes>"
      ]
     },
     "metadata": {
      "needs_background": "light"
     },
     "output_type": "display_data"
    }
   ],
   "source": [
    "plt.scatter (previous_df_new_1.NAME_CONTRACT_STATUS,previous_df_new_1.AMT_ANNUITY,color='green')\n",
    "plt.show()"
   ]
  },
  {
   "cell_type": "code",
   "execution_count": 76,
   "metadata": {},
   "outputs": [
    {
     "data": {
      "image/png": "[encoded data removed]",
      "text/plain": [
       "<Figure size 432x288 with 1 Axes>"
      ]
     },
     "metadata": {
      "needs_background": "light"
     },
     "output_type": "display_data"
    }
   ],
   "source": [
    "plt.scatter (previous_df_new_1.NAME_CONTRACT_STATUS,previous_df_new_1.AMT_APPLICATION,color='green')\n",
    "plt.show()"
   ]
  },
  {
   "cell_type": "code",
   "execution_count": 77,
   "metadata": {},
   "outputs": [
    {
     "data": {
      "image/png": "[encoded data removed]",
      "text/plain": [
       "<Figure size 432x288 with 1 Axes>"
      ]
     },
     "metadata": {
      "needs_background": "light"
     },
     "output_type": "display_data"
    }
   ],
   "source": [
    "plt.scatter (previous_df_new_1.NAME_CLIENT_TYPE,previous_df_new_1.AMT_ANNUITY,color='black',)\n",
    "plt.show()\n"
   ]
  },
  {
   "cell_type": "code",
   "execution_count": 78,
   "metadata": {},
   "outputs": [
    {
     "data": {
      "image/png": "[encoded data removed]",
      "text/plain": [
       "<Figure size 432x288 with 1 Axes>"
      ]
     },
     "metadata": {
      "needs_background": "light"
     },
     "output_type": "display_data"
    }
   ],
   "source": [
    "plt.scatter (previous_df_new_1.NAME_CLIENT_TYPE,previous_df_new_1.AMT_APPLICATION,color='black')\n",
    "plt.show()"
   ]
  },
  {
   "cell_type": "code",
   "execution_count": 79,
   "metadata": {},
   "outputs": [
    {
     "data": {
      "image/png": "[encoded data removed]",
      "text/plain": [
       "<Figure size 432x288 with 1 Axes>"
      ]
     },
     "metadata": {
      "needs_background": "light"
     },
     "output_type": "display_data"
    }
   ],
   "source": [
    "plt.scatter (previous_df_new_1.NAME_PORTFOLIO,previous_df_new_1.AMT_ANNUITY,color='red')\n",
    "plt.show()"
   ]
  },
  {
   "cell_type": "code",
   "execution_count": 80,
   "metadata": {},
   "outputs": [
    {
     "data": {
      "image/png": "[encoded data removed]",
      "text/plain": [
       "<Figure size 432x288 with 1 Axes>"
      ]
     },
     "metadata": {
      "needs_background": "light"
     },
     "output_type": "display_data"
    }
   ],
   "source": [
    "plt.scatter (previous_df_new_1.NAME_PORTFOLIO,previous_df_new_1.AMT_APPLICATION,color='red')\n",
    "plt.show()"
   ]
  },
  {
   "cell_type": "markdown",
   "metadata": {},
   "source": [
    "# CATEGORICAL  CATEGORICAL ANALYSIS"
   ]
  },
  {
   "cell_type": "code",
   "execution_count": 81,
   "metadata": {},
   "outputs": [
    {
     "data": {
      "text/html": [
       "<div>\n",
       "<style scoped>\n",
       "    .dataframe tbody tr th:only-of-type {\n",
       "        vertical-align: middle;\n",
       "    }\n",
       "\n",
       "    .dataframe tbody tr th {\n",
       "        vertical-align: top;\n",
       "    }\n",
       "\n",
       "    .dataframe thead tr th {\n",
       "        text-align: left;\n",
       "    }\n",
       "\n",
       "    .dataframe thead tr:last-of-type th {\n",
       "        text-align: right;\n",
       "    }\n",
       "</style>\n",
       "<table border=\"1\" class=\"dataframe\">\n",
       "  <thead>\n",
       "    <tr>\n",
       "      <th></th>\n",
       "      <th colspan=\"4\" halign=\"left\">AMT_ANNUITY</th>\n",
       "      <th colspan=\"4\" halign=\"left\">AMT_APPLICATION</th>\n",
       "      <th colspan=\"2\" halign=\"left\">AMT_CREDIT</th>\n",
       "      <th>...</th>\n",
       "      <th colspan=\"2\" halign=\"left\">RATE_DOWN_PAYMENT</th>\n",
       "      <th colspan=\"4\" halign=\"left\">RATE_INTEREST_PRIMARY</th>\n",
       "      <th colspan=\"4\" halign=\"left\">RATE_INTEREST_PRIVILEGED</th>\n",
       "    </tr>\n",
       "    <tr>\n",
       "      <th>NAME_CONTRACT_STATUS</th>\n",
       "      <th>Approved</th>\n",
       "      <th>Canceled</th>\n",
       "      <th>Refused</th>\n",
       "      <th>Unused offer</th>\n",
       "      <th>Approved</th>\n",
       "      <th>Canceled</th>\n",
       "      <th>Refused</th>\n",
       "      <th>Unused offer</th>\n",
       "      <th>Approved</th>\n",
       "      <th>Canceled</th>\n",
       "      <th>...</th>\n",
       "      <th>Refused</th>\n",
       "      <th>Unused offer</th>\n",
       "      <th>Approved</th>\n",
       "      <th>Canceled</th>\n",
       "      <th>Refused</th>\n",
       "      <th>Unused offer</th>\n",
       "      <th>Approved</th>\n",
       "      <th>Canceled</th>\n",
       "      <th>Refused</th>\n",
       "      <th>Unused offer</th>\n",
       "    </tr>\n",
       "    <tr>\n",
       "      <th>NAME_CONTRACT_TYPE</th>\n",
       "      <th></th>\n",
       "      <th></th>\n",
       "      <th></th>\n",
       "      <th></th>\n",
       "      <th></th>\n",
       "      <th></th>\n",
       "      <th></th>\n",
       "      <th></th>\n",
       "      <th></th>\n",
       "      <th></th>\n",
       "      <th></th>\n",
       "      <th></th>\n",
       "      <th></th>\n",
       "      <th></th>\n",
       "      <th></th>\n",
       "      <th></th>\n",
       "      <th></th>\n",
       "      <th></th>\n",
       "      <th></th>\n",
       "      <th></th>\n",
       "      <th></th>\n",
       "    </tr>\n",
       "  </thead>\n",
       "  <tbody>\n",
       "    <tr>\n",
       "      <th>Cash loans</th>\n",
       "      <td>25204.523291</td>\n",
       "      <td>16523.494050</td>\n",
       "      <td>25888.241552</td>\n",
       "      <td>15955.120659</td>\n",
       "      <td>380710.431234</td>\n",
       "      <td>26004.121409</td>\n",
       "      <td>478671.826388</td>\n",
       "      <td>2459.514170</td>\n",
       "      <td>420933.666044</td>\n",
       "      <td>27782.265436</td>\n",
       "      <td>...</td>\n",
       "      <td>0.173903</td>\n",
       "      <td>0.186832</td>\n",
       "      <td>0.188357</td>\n",
       "      <td>0.188357</td>\n",
       "      <td>0.188357</td>\n",
       "      <td>0.188357</td>\n",
       "      <td>0.773503</td>\n",
       "      <td>0.773503</td>\n",
       "      <td>0.773503</td>\n",
       "      <td>0.773503</td>\n",
       "    </tr>\n",
       "    <tr>\n",
       "      <th>Consumer loans</th>\n",
       "      <td>10001.498852</td>\n",
       "      <td>16033.772761</td>\n",
       "      <td>12043.473068</td>\n",
       "      <td>15751.302120</td>\n",
       "      <td>91894.938588</td>\n",
       "      <td>63149.370096</td>\n",
       "      <td>118037.303063</td>\n",
       "      <td>71056.010209</td>\n",
       "      <td>89688.411678</td>\n",
       "      <td>50875.412271</td>\n",
       "      <td>...</td>\n",
       "      <td>0.074839</td>\n",
       "      <td>0.014151</td>\n",
       "      <td>0.188357</td>\n",
       "      <td>0.188357</td>\n",
       "      <td>0.188357</td>\n",
       "      <td>0.188357</td>\n",
       "      <td>0.773503</td>\n",
       "      <td>0.773503</td>\n",
       "      <td>0.773503</td>\n",
       "      <td>0.773503</td>\n",
       "    </tr>\n",
       "    <tr>\n",
       "      <th>Revolving loans</th>\n",
       "      <td>11442.334486</td>\n",
       "      <td>15910.017570</td>\n",
       "      <td>11527.349343</td>\n",
       "      <td>13623.072396</td>\n",
       "      <td>108946.164567</td>\n",
       "      <td>2333.747557</td>\n",
       "      <td>164246.544975</td>\n",
       "      <td>0.000000</td>\n",
       "      <td>227766.736701</td>\n",
       "      <td>2386.803768</td>\n",
       "      <td>...</td>\n",
       "      <td>0.184087</td>\n",
       "      <td>0.188357</td>\n",
       "      <td>0.188357</td>\n",
       "      <td>0.188357</td>\n",
       "      <td>0.188357</td>\n",
       "      <td>0.188357</td>\n",
       "      <td>0.773503</td>\n",
       "      <td>0.773503</td>\n",
       "      <td>0.773503</td>\n",
       "      <td>0.773503</td>\n",
       "    </tr>\n",
       "    <tr>\n",
       "      <th>XNA</th>\n",
       "      <td>NaN</td>\n",
       "      <td>15955.120659</td>\n",
       "      <td>15955.120659</td>\n",
       "      <td>NaN</td>\n",
       "      <td>NaN</td>\n",
       "      <td>0.000000</td>\n",
       "      <td>0.000000</td>\n",
       "      <td>NaN</td>\n",
       "      <td>NaN</td>\n",
       "      <td>0.000000</td>\n",
       "      <td>...</td>\n",
       "      <td>0.188357</td>\n",
       "      <td>NaN</td>\n",
       "      <td>NaN</td>\n",
       "      <td>0.188357</td>\n",
       "      <td>0.188357</td>\n",
       "      <td>NaN</td>\n",
       "      <td>NaN</td>\n",
       "      <td>0.773503</td>\n",
       "      <td>0.773503</td>\n",
       "      <td>NaN</td>\n",
       "    </tr>\n",
       "  </tbody>\n",
       "</table>\n",
       "<p>4 rows × 24 columns</p>\n",
       "</div>"
      ],
      "text/plain": [
       "                       AMT_ANNUITY                                            \\\n",
       "NAME_CONTRACT_STATUS      Approved      Canceled       Refused  Unused offer   \n",
       "NAME_CONTRACT_TYPE                                                             \n",
       "Cash loans            25204.523291  16523.494050  25888.241552  15955.120659   \n",
       "Consumer loans        10001.498852  16033.772761  12043.473068  15751.302120   \n",
       "Revolving loans       11442.334486  15910.017570  11527.349343  13623.072396   \n",
       "XNA                            NaN  15955.120659  15955.120659           NaN   \n",
       "\n",
       "                     AMT_APPLICATION                               \\\n",
       "NAME_CONTRACT_STATUS        Approved      Canceled        Refused   \n",
       "NAME_CONTRACT_TYPE                                                  \n",
       "Cash loans             380710.431234  26004.121409  478671.826388   \n",
       "Consumer loans          91894.938588  63149.370096  118037.303063   \n",
       "Revolving loans        108946.164567   2333.747557  164246.544975   \n",
       "XNA                              NaN      0.000000       0.000000   \n",
       "\n",
       "                                       AMT_CREDIT                ...  \\\n",
       "NAME_CONTRACT_STATUS  Unused offer       Approved      Canceled  ...   \n",
       "NAME_CONTRACT_TYPE                                               ...   \n",
       "Cash loans             2459.514170  420933.666044  27782.265436  ...   \n",
       "Consumer loans        71056.010209   89688.411678  50875.412271  ...   \n",
       "Revolving loans           0.000000  227766.736701   2386.803768  ...   \n",
       "XNA                            NaN            NaN      0.000000  ...   \n",
       "\n",
       "                     RATE_DOWN_PAYMENT              RATE_INTEREST_PRIMARY  \\\n",
       "NAME_CONTRACT_STATUS           Refused Unused offer              Approved   \n",
       "NAME_CONTRACT_TYPE                                                          \n",
       "Cash loans                    0.173903     0.186832              0.188357   \n",
       "Consumer loans                0.074839     0.014151              0.188357   \n",
       "Revolving loans               0.184087     0.188357              0.188357   \n",
       "XNA                           0.188357          NaN                   NaN   \n",
       "\n",
       "                                                       \\\n",
       "NAME_CONTRACT_STATUS  Canceled   Refused Unused offer   \n",
       "NAME_CONTRACT_TYPE                                      \n",
       "Cash loans            0.188357  0.188357     0.188357   \n",
       "Consumer loans        0.188357  0.188357     0.188357   \n",
       "Revolving loans       0.188357  0.188357     0.188357   \n",
       "XNA                   0.188357  0.188357          NaN   \n",
       "\n",
       "                     RATE_INTEREST_PRIVILEGED                                   \n",
       "NAME_CONTRACT_STATUS                 Approved  Canceled   Refused Unused offer  \n",
       "NAME_CONTRACT_TYPE                                                              \n",
       "Cash loans                           0.773503  0.773503  0.773503     0.773503  \n",
       "Consumer loans                       0.773503  0.773503  0.773503     0.773503  \n",
       "Revolving loans                      0.773503  0.773503  0.773503     0.773503  \n",
       "XNA                                       NaN  0.773503  0.773503          NaN  \n",
       "\n",
       "[4 rows x 24 columns]"
      ]
     },
     "execution_count": 81,
     "metadata": {},
     "output_type": "execute_result"
    }
   ],
   "source": [
    "previous_df_new_2=pd.pivot_table(data=previous_df_new_1,index=\"NAME_CONTRACT_TYPE\",columns=\"NAME_CONTRACT_STATUS\")\n",
    "previous_df_new_2"
   ]
  },
  {
   "cell_type": "code",
   "execution_count": 82,
   "metadata": {},
   "outputs": [
    {
     "data": {
      "text/html": [
       "<div>\n",
       "<style scoped>\n",
       "    .dataframe tbody tr th:only-of-type {\n",
       "        vertical-align: middle;\n",
       "    }\n",
       "\n",
       "    .dataframe tbody tr th {\n",
       "        vertical-align: top;\n",
       "    }\n",
       "\n",
       "    .dataframe thead th {\n",
       "        text-align: right;\n",
       "    }\n",
       "</style>\n",
       "<table border=\"1\" class=\"dataframe\">\n",
       "  <thead>\n",
       "    <tr style=\"text-align: right;\">\n",
       "      <th>NAME_CONTRACT_STATUS</th>\n",
       "      <th>Approved</th>\n",
       "      <th>Canceled</th>\n",
       "      <th>Refused</th>\n",
       "      <th>Unused offer</th>\n",
       "    </tr>\n",
       "    <tr>\n",
       "      <th>NAME_CONTRACT_TYPE</th>\n",
       "      <th></th>\n",
       "      <th></th>\n",
       "      <th></th>\n",
       "      <th></th>\n",
       "    </tr>\n",
       "  </thead>\n",
       "  <tbody>\n",
       "    <tr>\n",
       "      <th>Cash loans</th>\n",
       "      <td>25204.523291</td>\n",
       "      <td>16523.494050</td>\n",
       "      <td>25888.241552</td>\n",
       "      <td>15955.120659</td>\n",
       "    </tr>\n",
       "    <tr>\n",
       "      <th>Consumer loans</th>\n",
       "      <td>10001.498852</td>\n",
       "      <td>16033.772761</td>\n",
       "      <td>12043.473068</td>\n",
       "      <td>15751.302120</td>\n",
       "    </tr>\n",
       "    <tr>\n",
       "      <th>Revolving loans</th>\n",
       "      <td>11442.334486</td>\n",
       "      <td>15910.017570</td>\n",
       "      <td>11527.349343</td>\n",
       "      <td>13623.072396</td>\n",
       "    </tr>\n",
       "    <tr>\n",
       "      <th>XNA</th>\n",
       "      <td>NaN</td>\n",
       "      <td>15955.120659</td>\n",
       "      <td>15955.120659</td>\n",
       "      <td>NaN</td>\n",
       "    </tr>\n",
       "  </tbody>\n",
       "</table>\n",
       "</div>"
      ],
      "text/plain": [
       "NAME_CONTRACT_STATUS      Approved      Canceled       Refused  Unused offer\n",
       "NAME_CONTRACT_TYPE                                                          \n",
       "Cash loans            25204.523291  16523.494050  25888.241552  15955.120659\n",
       "Consumer loans        10001.498852  16033.772761  12043.473068  15751.302120\n",
       "Revolving loans       11442.334486  15910.017570  11527.349343  13623.072396\n",
       "XNA                            NaN  15955.120659  15955.120659           NaN"
      ]
     },
     "execution_count": 82,
     "metadata": {},
     "output_type": "execute_result"
    }
   ],
   "source": [
    "previous_df_new_3=pd.pivot_table(data=previous_df_new_1,index=\"NAME_CONTRACT_TYPE\",columns=\"NAME_CONTRACT_STATUS\",values=\"AMT_ANNUITY\")\n",
    "previous_df_new_3"
   ]
  },
  {
   "cell_type": "code",
   "execution_count": 83,
   "metadata": {},
   "outputs": [
    {
     "data": {
      "image/png": "[encoded data removed]",
      "text/plain": [
       "<Figure size 432x288 with 2 Axes>"
      ]
     },
     "metadata": {
      "needs_background": "light"
     },
     "output_type": "display_data"
    }
   ],
   "source": [
    "sns.heatmap(previous_df_new_3,annot=True,cmap=\"RdYlGn\")\n",
    "plt.show()"
   ]
  },
  {
   "cell_type": "markdown",
   "metadata": {},
   "source": [
    "* "
   ]
  },
  {
   "cell_type": "markdown",
   "metadata": {},
   "source": [
    "* the heat map reading are based on annual earnings of the client \n",
    "*  applications approved: \n",
    "                        cash loans :25000\n",
    "                        consumer loans:10000-12000\n",
    "                        revolving loans:12000-13000\n",
    "                        XNA: -\n",
    " *  applications canceled : \n",
    "                        cash loans : 16-17000\n",
    "                        consumer loans:15-16000\n",
    "                        revolving loans:15-16000\n",
    "                        XNA:   15-16000\n",
    "                        \n",
    " *  applications refused : \n",
    "                        cash loans :26000\n",
    "                        consumer loans:12000\n",
    "                        revolving loans:12000\n",
    "                        XNA:  16000  \n",
    "                        \n",
    "  *  applications unusd offer : \n",
    "                        cash loans : 16000\n",
    "                        consumer loans:16000\n",
    "                        revolving loans:14000\n",
    "                        XNA:         "
   ]
  },
  {
   "cell_type": "code",
   "execution_count": 84,
   "metadata": {},
   "outputs": [
    {
     "data": {
      "text/html": [
       "<div>\n",
       "<style scoped>\n",
       "    .dataframe tbody tr th:only-of-type {\n",
       "        vertical-align: middle;\n",
       "    }\n",
       "\n",
       "    .dataframe tbody tr th {\n",
       "        vertical-align: top;\n",
       "    }\n",
       "\n",
       "    .dataframe thead th {\n",
       "        text-align: right;\n",
       "    }\n",
       "</style>\n",
       "<table border=\"1\" class=\"dataframe\">\n",
       "  <thead>\n",
       "    <tr style=\"text-align: right;\">\n",
       "      <th>NAME_CONTRACT_STATUS</th>\n",
       "      <th>Approved</th>\n",
       "      <th>Canceled</th>\n",
       "      <th>Refused</th>\n",
       "      <th>Unused offer</th>\n",
       "    </tr>\n",
       "    <tr>\n",
       "      <th>NAME_CONTRACT_TYPE</th>\n",
       "      <th></th>\n",
       "      <th></th>\n",
       "      <th></th>\n",
       "      <th></th>\n",
       "    </tr>\n",
       "  </thead>\n",
       "  <tbody>\n",
       "    <tr>\n",
       "      <th>Cash loans</th>\n",
       "      <td>380710.431234</td>\n",
       "      <td>26004.121409</td>\n",
       "      <td>478671.826388</td>\n",
       "      <td>2459.514170</td>\n",
       "    </tr>\n",
       "    <tr>\n",
       "      <th>Consumer loans</th>\n",
       "      <td>91894.938588</td>\n",
       "      <td>63149.370096</td>\n",
       "      <td>118037.303063</td>\n",
       "      <td>71056.010209</td>\n",
       "    </tr>\n",
       "    <tr>\n",
       "      <th>Revolving loans</th>\n",
       "      <td>108946.164567</td>\n",
       "      <td>2333.747557</td>\n",
       "      <td>164246.544975</td>\n",
       "      <td>0.000000</td>\n",
       "    </tr>\n",
       "    <tr>\n",
       "      <th>XNA</th>\n",
       "      <td>NaN</td>\n",
       "      <td>0.000000</td>\n",
       "      <td>0.000000</td>\n",
       "      <td>NaN</td>\n",
       "    </tr>\n",
       "  </tbody>\n",
       "</table>\n",
       "</div>"
      ],
      "text/plain": [
       "NAME_CONTRACT_STATUS       Approved      Canceled        Refused  Unused offer\n",
       "NAME_CONTRACT_TYPE                                                            \n",
       "Cash loans            380710.431234  26004.121409  478671.826388   2459.514170\n",
       "Consumer loans         91894.938588  63149.370096  118037.303063  71056.010209\n",
       "Revolving loans       108946.164567   2333.747557  164246.544975      0.000000\n",
       "XNA                             NaN      0.000000       0.000000           NaN"
      ]
     },
     "execution_count": 84,
     "metadata": {},
     "output_type": "execute_result"
    }
   ],
   "source": [
    "previous_df_new_4=pd.pivot_table(data=previous_df_new_1,index=\"NAME_CONTRACT_TYPE\",columns=\"NAME_CONTRACT_STATUS\",values=\"AMT_APPLICATION\")\n",
    "previous_df_new_4"
   ]
  },
  {
   "cell_type": "code",
   "execution_count": 85,
   "metadata": {},
   "outputs": [
    {
     "data": {
      "image/png": "[encoded data removed]",
      "text/plain": [
       "<Figure size 432x288 with 2 Axes>"
      ]
     },
     "metadata": {
      "needs_background": "light"
     },
     "output_type": "display_data"
    }
   ],
   "source": [
    "sns.heatmap(previous_df_new_4,annot=True,cmap=\"RdYlGn\")\n",
    "plt.show()"
   ]
  },
  {
   "cell_type": "markdown",
   "metadata": {},
   "source": [
    "*"
   ]
  },
  {
   "cell_type": "markdown",
   "metadata": {},
   "source": [
    "*  the heat map reading are based on application amount of the client \n",
    "*  applications approved: \n",
    "                        cash loans :380000\n",
    "                        consumer loans:920000\n",
    "                        revolving loans:100000\n",
    "                        XNA:-\n",
    " *  applications canceled : \n",
    "                        cash loans :26000\n",
    "                        consumer loans:63000\n",
    "                        revolving loans:230000\n",
    "                        XNA: 0  \n",
    "                        \n",
    " *  applications refused : \n",
    "                        cash loans :480000\n",
    "                        consumer loans:120000\n",
    "                        revolving loans:160000\n",
    "                        XNA: 0   \n",
    "                        \n",
    "  *  applicatins unusd offer : \n",
    "                        cash loans :25000\n",
    "                        consumer loans:71000\n",
    "                        revolving loans:0\n",
    "                        XNA: -       "
   ]
  },
  {
   "cell_type": "code",
   "execution_count": 86,
   "metadata": {},
   "outputs": [
    {
     "data": {
      "text/html": [
       "<div>\n",
       "<style scoped>\n",
       "    .dataframe tbody tr th:only-of-type {\n",
       "        vertical-align: middle;\n",
       "    }\n",
       "\n",
       "    .dataframe tbody tr th {\n",
       "        vertical-align: top;\n",
       "    }\n",
       "\n",
       "    .dataframe thead th {\n",
       "        text-align: right;\n",
       "    }\n",
       "</style>\n",
       "<table border=\"1\" class=\"dataframe\">\n",
       "  <thead>\n",
       "    <tr style=\"text-align: right;\">\n",
       "      <th>NAME_CLIENT_TYPE</th>\n",
       "      <th>New</th>\n",
       "      <th>Refreshed</th>\n",
       "      <th>Repeater</th>\n",
       "      <th>XNA</th>\n",
       "    </tr>\n",
       "    <tr>\n",
       "      <th>NAME_CONTRACT_TYPE</th>\n",
       "      <th></th>\n",
       "      <th></th>\n",
       "      <th></th>\n",
       "      <th></th>\n",
       "    </tr>\n",
       "  </thead>\n",
       "  <tbody>\n",
       "    <tr>\n",
       "      <th>Cash loans</th>\n",
       "      <td>284175.998705</td>\n",
       "      <td>281364.846958</td>\n",
       "      <td>274138.985010</td>\n",
       "      <td>156417.487685</td>\n",
       "    </tr>\n",
       "    <tr>\n",
       "      <th>Consumer loans</th>\n",
       "      <td>93190.494030</td>\n",
       "      <td>101638.183124</td>\n",
       "      <td>92856.026611</td>\n",
       "      <td>117798.517811</td>\n",
       "    </tr>\n",
       "    <tr>\n",
       "      <th>Revolving loans</th>\n",
       "      <td>79758.752408</td>\n",
       "      <td>91663.396417</td>\n",
       "      <td>99556.885258</td>\n",
       "      <td>101666.666667</td>\n",
       "    </tr>\n",
       "    <tr>\n",
       "      <th>XNA</th>\n",
       "      <td>0.000000</td>\n",
       "      <td>0.000000</td>\n",
       "      <td>0.000000</td>\n",
       "      <td>NaN</td>\n",
       "    </tr>\n",
       "  </tbody>\n",
       "</table>\n",
       "</div>"
      ],
      "text/plain": [
       "NAME_CLIENT_TYPE              New      Refreshed       Repeater            XNA\n",
       "NAME_CONTRACT_TYPE                                                            \n",
       "Cash loans          284175.998705  281364.846958  274138.985010  156417.487685\n",
       "Consumer loans       93190.494030  101638.183124   92856.026611  117798.517811\n",
       "Revolving loans      79758.752408   91663.396417   99556.885258  101666.666667\n",
       "XNA                      0.000000       0.000000       0.000000            NaN"
      ]
     },
     "execution_count": 86,
     "metadata": {},
     "output_type": "execute_result"
    }
   ],
   "source": [
    "# amt_application \n",
    "previous_df_new_5=pd.pivot_table(data=previous_df_new_1,index=\"NAME_CONTRACT_TYPE\",columns=\"NAME_CLIENT_TYPE\",values=\"AMT_APPLICATION\")\n",
    "previous_df_new_5"
   ]
  },
  {
   "cell_type": "code",
   "execution_count": 87,
   "metadata": {},
   "outputs": [
    {
     "data": {
      "image/png": "[encoded data removed]",
      "text/plain": [
       "<Figure size 432x288 with 2 Axes>"
      ]
     },
     "metadata": {
      "needs_background": "light"
     },
     "output_type": "display_data"
    }
   ],
   "source": [
    "sns.heatmap(previous_df_new_5,annot=True,cmap=\"RdYlGn\")\n",
    "plt.show()"
   ]
  },
  {
   "cell_type": "markdown",
   "metadata": {},
   "source": [
    "  * the heat map reading are based on application amount of the client\n",
    "  * new:\n",
    "                 cash loans : 280000\n",
    "                 consumer loans:93000\n",
    "                 revolving loans:80000\n",
    "                 XNA:0\n",
    "   * refreshed :\n",
    "              cash loans :280000\n",
    "              consumer loans:100000\n",
    "              revolving loans:92000\n",
    "              XNA: 0  \n",
    "   * repeater :\n",
    "              cash loans :2700000\n",
    "              consumer loans:93000\n",
    "              revolving loans:100000\n",
    "              XNA: 0   \n",
    "    * xna :\n",
    "              cash loans :160000\n",
    "              consumer loans:120000\n",
    "              revolving loans:100000\n",
    "              XNA: -       "
   ]
  },
  {
   "cell_type": "code",
   "execution_count": 88,
   "metadata": {},
   "outputs": [
    {
     "data": {
      "text/html": [
       "<div>\n",
       "<style scoped>\n",
       "    .dataframe tbody tr th:only-of-type {\n",
       "        vertical-align: middle;\n",
       "    }\n",
       "\n",
       "    .dataframe tbody tr th {\n",
       "        vertical-align: top;\n",
       "    }\n",
       "\n",
       "    .dataframe thead th {\n",
       "        text-align: right;\n",
       "    }\n",
       "</style>\n",
       "<table border=\"1\" class=\"dataframe\">\n",
       "  <thead>\n",
       "    <tr style=\"text-align: right;\">\n",
       "      <th>NAME_CLIENT_TYPE</th>\n",
       "      <th>New</th>\n",
       "      <th>Refreshed</th>\n",
       "      <th>Repeater</th>\n",
       "      <th>XNA</th>\n",
       "    </tr>\n",
       "    <tr>\n",
       "      <th>NAME_CONTRACT_STATUS</th>\n",
       "      <th></th>\n",
       "      <th></th>\n",
       "      <th></th>\n",
       "      <th></th>\n",
       "    </tr>\n",
       "  </thead>\n",
       "  <tbody>\n",
       "    <tr>\n",
       "      <th>Approved</th>\n",
       "      <td>104501.463936</td>\n",
       "      <td>182651.102337</td>\n",
       "      <td>212763.313218</td>\n",
       "      <td>200635.827976</td>\n",
       "    </tr>\n",
       "    <tr>\n",
       "      <th>Canceled</th>\n",
       "      <td>29785.653467</td>\n",
       "      <td>32882.732284</td>\n",
       "      <td>21987.202331</td>\n",
       "      <td>15989.754098</td>\n",
       "    </tr>\n",
       "    <tr>\n",
       "      <th>Refused</th>\n",
       "      <td>166430.850414</td>\n",
       "      <td>312662.667324</td>\n",
       "      <td>341926.056317</td>\n",
       "      <td>391608.100169</td>\n",
       "    </tr>\n",
       "    <tr>\n",
       "      <th>Unused offer</th>\n",
       "      <td>79955.690294</td>\n",
       "      <td>68183.136360</td>\n",
       "      <td>69016.648678</td>\n",
       "      <td>60532.500000</td>\n",
       "    </tr>\n",
       "  </tbody>\n",
       "</table>\n",
       "</div>"
      ],
      "text/plain": [
       "NAME_CLIENT_TYPE                New      Refreshed       Repeater  \\\n",
       "NAME_CONTRACT_STATUS                                                \n",
       "Approved              104501.463936  182651.102337  212763.313218   \n",
       "Canceled               29785.653467   32882.732284   21987.202331   \n",
       "Refused               166430.850414  312662.667324  341926.056317   \n",
       "Unused offer           79955.690294   68183.136360   69016.648678   \n",
       "\n",
       "NAME_CLIENT_TYPE                XNA  \n",
       "NAME_CONTRACT_STATUS                 \n",
       "Approved              200635.827976  \n",
       "Canceled               15989.754098  \n",
       "Refused               391608.100169  \n",
       "Unused offer           60532.500000  "
      ]
     },
     "execution_count": 88,
     "metadata": {},
     "output_type": "execute_result"
    }
   ],
   "source": [
    "previous_df_new_6=pd.pivot_table(data=previous_df_new_1,index=\"NAME_CONTRACT_STATUS\",columns=\"NAME_CLIENT_TYPE\",values=\"AMT_APPLICATION\")\n",
    "previous_df_new_6"
   ]
  },
  {
   "cell_type": "code",
   "execution_count": 89,
   "metadata": {},
   "outputs": [
    {
     "data": {
      "image/png": "[encoded data removed]",
      "text/plain": [
       "<Figure size 432x288 with 2 Axes>"
      ]
     },
     "metadata": {
      "needs_background": "light"
     },
     "output_type": "display_data"
    }
   ],
   "source": [
    "sns.heatmap(previous_df_new_6,annot=True,cmap=\"RdYlGn\")\n",
    "plt.show()"
   ]
  },
  {
   "cell_type": "markdown",
   "metadata": {},
   "source": [
    "* the heat map reading are based on application amount of the client\n",
    "* new:\n",
    "                 approved :10000\n",
    "                 canceled:30000\n",
    "                 refused:170000\n",
    "                 unused offer:80000\n",
    "* refreshed  :\n",
    "              approved :180000\n",
    "              canceled:33000\n",
    "              refused:310000\n",
    "              unused offer: 68000  \n",
    "* repeater :\n",
    "              approved:210000\n",
    "              canceled:22000\n",
    "              refused:340000\n",
    "              unused offer: 69000  \n",
    "* xna :\n",
    "              approved :200000\n",
    "              canceled:16000\n",
    "              refused:390000\n",
    "              unused offer : 61000       "
   ]
  },
  {
   "cell_type": "code",
   "execution_count": null,
   "metadata": {},
   "outputs": [],
   "source": []
  }
 ],
 "metadata": {
  "kernelspec": {
   "display_name": "Python 3",
   "language": "python",
   "name": "python3"
  },
  "language_info": {
   "codemirror_mode": {
    "name": "ipython",
    "version": 3
   },
   "file_extension": ".py",
   "mimetype": "text/x-python",
   "name": "python",
   "nbconvert_exporter": "python",
   "pygments_lexer": "ipython3",
   "version": "3.8.5"
  }
 },
 "nbformat": 4,
 "nbformat_minor": 4
}
